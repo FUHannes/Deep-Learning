{
 "cells": [
  {
   "cell_type": "code",
   "execution_count": 32,
   "metadata": {},
   "outputs": [],
   "source": [
    "def GetBatches(TrainingX, TrainingY):\n",
    "    NumberBatches = 64\n",
    "\n",
    "    #randomize order of the data set\n",
    "    idx = torch.randperm(TrainingX.shape[0]) \n",
    "    TrainingX = TrainingX[idx]\n",
    "    TrainingY = TrainingY[idx]\n",
    "\n",
    "    #split into batches\n",
    "    newTrainingX = torch.split(TrainingX,int(len(TrainingX)/NumberBatches))\n",
    "    newTrainingY = torch.split(TrainingY,int(len(TrainingY)/NumberBatches))\n",
    "\n",
    "    return newTrainingX, newTrainingY"
   ]
  },
  {
   "cell_type": "code",
   "execution_count": 33,
   "metadata": {
    "scrolled": true
   },
   "outputs": [
    {
     "name": "stdout",
     "output_type": "stream",
     "text": [
      "(20000, 1, 28, 28) float32\n",
      "(20000,) int64\n",
      "X torch.Size([20000, 1, 28, 28])\n",
      "torch.Size([20000, 1, 28, 28])\n",
      "(2000, 1, 28, 28) float32\n"
     ]
    },
    {
     "data": {
      "image/png": "[encoded data removed]",
      "text/plain": [
       "<Figure size 432x288 with 1 Axes>"
      ]
     },
     "metadata": {
      "needs_background": "light"
     },
     "output_type": "display_data"
    },
    {
     "name": "stdout",
     "output_type": "stream",
     "text": [
      "Sequential(\n",
      "  (0): Linear(in_features=784, out_features=128, bias=True)\n",
      "  (1): ReLU()\n",
      "  (2): Linear(in_features=128, out_features=64, bias=True)\n",
      "  (3): ReLU()\n",
      "  (4): Linear(in_features=64, out_features=10, bias=True)\n",
      "  (5): LogSoftmax(dim=1)\n",
      ")\n"
     ]
    }
   ],
   "source": [
    "import numpy as np\n",
    "import matplotlib.pyplot as plt\n",
    "import torch\n",
    "from torch import nn, optim\n",
    "from time import time\n",
    "\n",
    "#https://towardsdatascience.com/handwritten-digit-mnist-pytorch-977b5338e627\n",
    "\n",
    "with np.load('prediction-challenge-01-data.npz') as fh:\n",
    "    data_x = fh['data_x']\n",
    "    data_y = fh['data_y']\n",
    "    test_x = fh['test_x']\n",
    "\n",
    "# TRAINING DATA: INPUT (x) AND OUTPUT (y)\n",
    "# 1. INDEX: IMAGE SERIAL NUMBER\n",
    "# 2. INDEX: COLOR CHANNEL\n",
    "# 3/4. INDEX: PIXEL VALUE\n",
    "print(data_x.shape, data_x.dtype)\n",
    "print(data_y.shape, data_y.dtype)\n",
    "\n",
    "X = torch.from_numpy(data_x)\n",
    "Y = torch.from_numpy(data_y)\n",
    "\n",
    "print(\"X\",X.shape)\n",
    "\n",
    "#Build Testset from Trainingset\n",
    "# dataX = torch.split(X, [15000,5000])\n",
    "# dataY = torch.split(Y, [15000,5000])\n",
    "\n",
    "# TrainingX = dataX[0]\n",
    "# TestX = dataX[1]\n",
    "# TrainingY = dataY[0]\n",
    "# TestY = dataY[1]\n",
    "\n",
    "#Alternatively, use all data for training:\n",
    "TrainingX = X\n",
    "TrainingY = Y\n",
    "\n",
    "print(TrainingX.shape)\n",
    "# TEST DATA: INPUT (x) ONLY\n",
    "print(test_x.shape, test_x.dtype)\n",
    "\n",
    "plt.imshow(data_x[0, 0])\n",
    "plt.title(data_y[0])\n",
    "plt.show()\n",
    "\n",
    "#Build Model\n",
    "input_size = 784\n",
    "hidden_sizes = [128, 64]\n",
    "output_size = 10\n",
    "\n",
    "model = nn.Sequential(nn.Linear(input_size, hidden_sizes[0]),\n",
    "                      nn.ReLU(),\n",
    "                      nn.Linear(hidden_sizes[0], hidden_sizes[1]),\n",
    "                      nn.ReLU(),\n",
    "                      nn.Linear(hidden_sizes[1], output_size),\n",
    "                      nn.LogSoftmax(dim=1))\n",
    "print(model)\n",
    "criterion = nn.NLLLoss()"
   ]
  },
  {
   "cell_type": "code",
   "execution_count": 34,
   "metadata": {},
   "outputs": [
    {
     "name": "stdout",
     "output_type": "stream",
     "text": [
      "Epoch 0 - Training loss: 0.6230006156823574\n",
      "Epoch 1 - Training loss: 0.11574252637533042\n",
      "Epoch 2 - Training loss: 0.0853997681958553\n",
      "Epoch 3 - Training loss: 0.07114217029168056\n",
      "Epoch 4 - Training loss: 0.06094344065357477\n",
      "Epoch 5 - Training loss: 0.054279374913909495\n",
      "Epoch 6 - Training loss: 0.049076209823863626\n",
      "Epoch 7 - Training loss: 0.044558391643640324\n",
      "Epoch 8 - Training loss: 0.03906355062738443\n",
      "Epoch 9 - Training loss: 0.03781605710108311\n",
      "Epoch 10 - Training loss: 0.034591321857311785\n",
      "Epoch 11 - Training loss: 0.032327600014515415\n",
      "Epoch 12 - Training loss: 0.029554809813793652\n",
      "Epoch 13 - Training loss: 0.028186735780670855\n",
      "Epoch 14 - Training loss: 0.027573803660626978\n",
      "\n",
      "Training Time (in minutes) = 0.08205451170603434\n"
     ]
    }
   ],
   "source": [
    "optimizer = optim.SGD(model.parameters(), lr=0.003, momentum=0.9)\n",
    "time0 = time()\n",
    "epochs = 15\n",
    "     \n",
    "for e in range(epochs):\n",
    "    running_loss = 0\n",
    "    \n",
    "    BatchesX, BatchesY = GetBatches(TrainingX, TrainingY)\n",
    "    \n",
    "    for i in range(len(BatchesX)):\n",
    "        #Flatten\n",
    "        x = BatchesX[i]\n",
    "        x = torch.flatten(x, start_dim = 1)\n",
    "        y = BatchesY[i]\n",
    "  \n",
    "    \n",
    "        # Training pass\n",
    "        optimizer.zero_grad()\n",
    "\n",
    "        output = model(x)\n",
    "        loss = criterion(output, y)\n",
    "\n",
    "        #This is where the model learns by backpropagating\n",
    "        loss.backward()\n",
    "\n",
    "        #And optimizes its weights here\n",
    "        optimizer.step()\n",
    "\n",
    "        running_loss += loss.item()\n",
    "    print(\"Epoch {} - Training loss: {}\".format(e, running_loss/len(BatchesX[0])))\n",
    "    \n",
    "    #print('weights 1',torch.nonzero(model[0].weight.grad ))\n",
    "\n",
    "\n",
    "print(\"\\nTraining Time (in minutes) =\",(time()-time0)/60) \n"
   ]
  },
  {
   "cell_type": "code",
   "execution_count": 35,
   "metadata": {},
   "outputs": [
    {
     "name": "stdout",
     "output_type": "stream",
     "text": [
      "Number Of Images Tested = 5000\n",
      "\n",
      "Model Accuracy = 0.9684\n"
     ]
    }
   ],
   "source": [
    "# Test Model\n",
    "\n",
    "\n",
    "correct_count, all_count = 0, 0\n",
    "\n",
    "for i in range(TestX.shape[0]):\n",
    "    image = torch.flatten(TestX[i], start_dim = 1)\n",
    "\n",
    "\n",
    "    # Turn off gradients to speed up this part\n",
    "    with torch.no_grad():\n",
    "        logps = model(image)\n",
    "\n",
    "    # Output of the network are log-probabilities, need to take exponential for probabilities\n",
    "    ps = torch.exp(logps)\n",
    "    probab = list(ps.numpy()[0])\n",
    "    pred_label = probab.index(max(probab))\n",
    "    true_label = TestY[i]\n",
    "    if(true_label == pred_label):\n",
    "        correct_count += 1\n",
    "    all_count += 1\n",
    "\n",
    "print(\"Number Of Images Tested =\", all_count)\n",
    "print(\"\\nModel Accuracy =\", (correct_count/all_count))"
   ]
  },
  {
   "cell_type": "code",
   "execution_count": 37,
   "metadata": {},
   "outputs": [],
   "source": [
    "#Visualize test data and prediction\n",
    "modelprediction = []\n",
    "for x in test_x:\n",
    "    x = torch.from_numpy(x)\n",
    "    image = torch.flatten(x, start_dim = 1)\n",
    "\n",
    "    # Turn off gradients to speed up this part\n",
    "    with torch.no_grad():\n",
    "        logps = model(image)\n",
    "\n",
    "    # Output of the network are log-probabilities, need to take exponential for probabilities\n",
    "    ps = torch.exp(logps)\n",
    "    probab = list(ps.numpy()[0])\n",
    "    pred_label = probab.index(max(probab))\n",
    "    modelprediction.append(pred_label)\n",
    "    \n",
    "    #plt.imshow(x.reshape(28,28))\n",
    "    #plt.title(pred_label)\n",
    "    #plt.show()"
   ]
  },
  {
   "cell_type": "code",
   "execution_count": 40,
   "metadata": {},
   "outputs": [],
   "source": [
    "import numpy as np\n",
    "\n",
    "prediction = np.asarray(modelprediction)# THAT'S YOUR JOB\n",
    "\n",
    "# MAKE SURE THAT YOU HAVE THE RIGHT FORMAT\n",
    "assert prediction.ndim == 1\n",
    "assert prediction.shape[0] == 2000\n",
    "\n",
    "# AND SAVE EXACTLY AS SHOWN BELOW\n",
    "np.save('prediction.npy', prediction)"
   ]
  },
  {
   "cell_type": "code",
   "execution_count": null,
   "metadata": {},
   "outputs": [],
   "source": []
  },
  {
   "cell_type": "code",
   "execution_count": null,
   "metadata": {},
   "outputs": [],
   "source": []
  },
  {
   "cell_type": "code",
   "execution_count": null,
   "metadata": {},
   "outputs": [],
   "source": []
  },
  {
   "cell_type": "code",
   "execution_count": null,
   "metadata": {},
   "outputs": [],
   "source": []
  },
  {
   "cell_type": "code",
   "execution_count": null,
   "metadata": {},
   "outputs": [],
   "source": []
  },
  {
   "cell_type": "code",
   "execution_count": null,
   "metadata": {},
   "outputs": [],
   "source": []
  },
  {
   "cell_type": "code",
   "execution_count": null,
   "metadata": {},
   "outputs": [],
   "source": []
  }
 ],
 "metadata": {
  "kernelspec": {
   "display_name": "Python 3",
   "language": "python",
   "name": "python3"
  },
  "language_info": {
   "codemirror_mode": {
    "name": "ipython",
    "version": 3
   },
   "file_extension": ".py",
   "mimetype": "text/x-python",
   "name": "python",
   "nbconvert_exporter": "python",
   "pygments_lexer": "ipython3",
   "version": "3.8.3"
  }
 },
 "nbformat": 4,
 "nbformat_minor": 4
}
