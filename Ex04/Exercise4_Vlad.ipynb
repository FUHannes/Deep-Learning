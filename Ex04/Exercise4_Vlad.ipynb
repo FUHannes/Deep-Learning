{
 "cells": [
  {
   "cell_type": "code",
   "execution_count": 2,
   "id": "aa0d075b-60cc-4053-90c8-f0bb620a2c6b",
   "metadata": {},
   "outputs": [],
   "source": [
    "import time\n",
    "# for plotting\n",
    "import matplotlib.pyplot as plt\n",
    "\n",
    "# numpy is the standard numerical library for Python\n",
    "import numpy as np\n",
    "\n",
    "# torch is the deep learning library we are using in this course\n",
    "import torch\n",
    "\n",
    "from torch import nn, tensor\n",
    "\n",
    "from ipywidgets import interact, IntSlider, Layout\n",
    "\n",
    "import random"
   ]
  },
  {
   "cell_type": "code",
   "execution_count": 3,
   "id": "51b953dc-dc86-4b1d-b9c4-323eb6cbabcb",
   "metadata": {},
   "outputs": [],
   "source": [
    "from torch.utils.data import DataLoader, Dataset\n",
    "class CIFARDataset(Dataset):\n",
    "    def __init__(self, x_train, y_train):\n",
    "        self.x_train = torch.from_numpy(x_train).moveaxis(3, 1)\n",
    "        self.y_train = torch.from_numpy(y_train).type(torch.LongTensor)\n",
    "\n",
    "    def __len__(self):\n",
    "        return len(self.x_train)\n",
    "\n",
    "    def __getitem__(self, idx):\n",
    "        return self.x_train[idx], self.y_train[idx]"
   ]
  },
  {
   "cell_type": "code",
   "execution_count": 4,
   "id": "2c4dc73f-d19f-44ec-870a-c40513decb5b",
   "metadata": {},
   "outputs": [
    {
     "name": "stdout",
     "output_type": "stream",
     "text": [
      "(3000, 32, 32, 3) float32\n",
      "(3000,) float64\n",
      "(300, 32, 32, 3) float32\n"
     ]
    },
    {
     "data": {
      "image/png": "[encoded data removed]",
      "text/plain": [
       "<Figure size 432x288 with 1 Axes>"
      ]
     },
     "metadata": {
      "needs_background": "light"
     },
     "output_type": "display_data"
    },
    {
     "name": "stdout",
     "output_type": "stream",
     "text": [
      "Data shapes:\n",
      "torch.Size([64, 3, 32, 32]) torch.Size([64])\n"
     ]
    }
   ],
   "source": [
    "with np.load('prediction-challenge-02-data.npz') as fh:\n",
    "    x_train = fh['x_train']\n",
    "    y_train = fh['y_train']\n",
    "    x_test = fh['x_test']\n",
    "\n",
    "print(x_train.shape, x_train.dtype)\n",
    "print(y_train.shape, y_train.dtype)\n",
    "\n",
    "print(x_test.shape, x_test.dtype)\n",
    "\n",
    "plt.imshow(x_train[0])\n",
    "plt.title(y_train[0])\n",
    "plt.show()\n",
    "\n",
    "training_data = CIFARDataset(x_train, y_train)\n",
    "train_dataloader = DataLoader(training_data, batch_size=64, shuffle=True)\n",
    "\n",
    "train_features, train_labels = next(iter(train_dataloader))\n",
    "\n",
    "print(\"Data shapes:\")\n",
    "print(train_features.shape, train_labels.shape)"
   ]
  },
  {
   "cell_type": "code",
   "execution_count": 5,
   "id": "01aaa3c3-cf3a-40b5-a967-d931518294fd",
   "metadata": {},
   "outputs": [
    {
     "name": "stdout",
     "output_type": "stream",
     "text": [
      "Sequential(\n",
      "  (0): Conv2d(3, 6, kernel_size=(3, 3), stride=(1, 1))\n",
      "  (1): ReLU()\n",
      "  (2): MaxPool2d(kernel_size=2, stride=2, padding=0, dilation=1, ceil_mode=False)\n",
      "  (3): Conv2d(6, 16, kernel_size=(3, 3), stride=(1, 1))\n",
      "  (4): ReLU()\n",
      "  (5): MaxPool2d(kernel_size=2, stride=2, padding=0, dilation=1, ceil_mode=False)\n",
      "  (6): Flatten(start_dim=1, end_dim=-1)\n",
      "  (7): Linear(in_features=576, out_features=128, bias=True)\n",
      "  (8): ReLU()\n",
      "  (9): Linear(in_features=128, out_features=64, bias=True)\n",
      "  (10): ReLU()\n",
      "  (11): Dropout(p=0.5, inplace=False)\n",
      "  (12): Linear(in_features=64, out_features=3, bias=True)\n",
      ")\n"
     ]
    }
   ],
   "source": [
    "input_channels = 3\n",
    "hidden_sizes = [128, 64]\n",
    "output_size = 3\n",
    "\n",
    "hidden_layers = []\n",
    "for size_1, size_2 in zip(hidden_sizes, hidden_sizes[1:]):\n",
    "    hidden_layers.append(nn.Linear(size_1, size_2))\n",
    "    hidden_layers.append(nn.ReLU())\n",
    "\n",
    "model = nn.Sequential(\n",
    "          # 1st conv layer\n",
    "          nn.Conv2d(input_channels, 6, kernel_size=3),\n",
    "          nn.ReLU(),\n",
    "          nn.MaxPool2d(kernel_size=2, stride=2),\n",
    "    \n",
    "          # 2st conv layer\n",
    "          nn.Conv2d(6, 16, kernel_size=3),\n",
    "          nn.ReLU(),\n",
    "          nn.MaxPool2d(kernel_size=2, stride=2),\n",
    "    \n",
    "          # deep neural network\n",
    "          nn.Flatten(1),\n",
    "          nn.Linear(16 *6*6, hidden_sizes[0]),\n",
    "          nn.ReLU(),\n",
    "          *hidden_layers,\n",
    "          nn.Dropout(),\n",
    "          nn.Linear(hidden_sizes[-1], output_size),\n",
    ")\n",
    "print(model)"
   ]
  },
  {
   "cell_type": "code",
   "execution_count": 6,
   "id": "6eaf4605-7f26-4341-8837-f23582870bd9",
   "metadata": {},
   "outputs": [
    {
     "data": {
      "text/plain": [
       "torch.Size([64, 3])"
      ]
     },
     "execution_count": 6,
     "metadata": {},
     "output_type": "execute_result"
    }
   ],
   "source": [
    "a = model(train_features)\n",
    "a.shape"
   ]
  },
  {
   "cell_type": "code",
   "execution_count": 7,
   "id": "c4a57feb-9673-48a6-8652-fb3555a7b745",
   "metadata": {},
   "outputs": [
    {
     "name": "stdout",
     "output_type": "stream",
     "text": [
      "Epoch 199 - Training loss: 0.05853420162263016\n",
      "Training Time (in minutes) = 0.6599012692769368\n"
     ]
    }
   ],
   "source": [
    "loss_fn = nn.CrossEntropyLoss()\n",
    "optimizer = torch.optim.SGD(model.parameters(), lr=0.003, momentum=0.9)\n",
    "time0 = time.time()\n",
    "epochs = 200\n",
    "     \n",
    "for e in range(epochs):\n",
    "    running_loss = 0\n",
    "    \n",
    "    for i, (x, y) in enumerate(train_dataloader):\n",
    "        # Training pass\n",
    "        optimizer.zero_grad()\n",
    "\n",
    "        y_pred = model(x)\n",
    "        loss = loss_fn(y_pred, y)\n",
    "\n",
    "        #This is where the model learns by backpropagating\n",
    "        loss.backward()\n",
    "\n",
    "        #And optimizes its weights here\n",
    "        optimizer.step()\n",
    "\n",
    "        running_loss += loss.item()\n",
    "    print(f\"Epoch {e} - Training loss: {running_loss/len(x[0])}\", end=\"\\r\")\n",
    "\n",
    "\n",
    "print(\"\\nTraining Time (in minutes) =\",(time.time()-time0)/60) \n"
   ]
  },
  {
   "cell_type": "code",
   "execution_count": 8,
   "id": "9f8851c9-4b4d-44dd-b6a7-e497e976af6f",
   "metadata": {},
   "outputs": [
    {
     "name": "stdout",
     "output_type": "stream",
     "text": [
      "2999  Accuracy: 100.0%, Avg loss: 0.003865\r"
     ]
    }
   ],
   "source": [
    "size = len(train_dataloader.dataset)\n",
    "test_loss, correct = 0, 0\n",
    "\n",
    "with torch.no_grad():\n",
    "    for i in range(size):\n",
    "        x = train_dataloader.dataset.x_train[i].unsqueeze(0)\n",
    "        y = train_dataloader.dataset.y_train[i].unsqueeze(0)\n",
    "        pred = model(x)\n",
    "        test_loss += loss_fn(pred, y).item()\n",
    "        correct += (pred.argmax(1) == y).type(torch.float).sum().item()\n",
    "\n",
    "        print(f\"{i}  Accuracy: {(100*correct/size):>0.1f}%, Avg loss: {test_loss/size:>8f}\", end=\"\\r\")"
   ]
  },
  {
   "cell_type": "code",
   "execution_count": 9,
   "id": "feeb748a-bd68-45ed-b95c-45c09841b819",
   "metadata": {},
   "outputs": [],
   "source": [
    "test_data = torch.from_numpy(x_test).moveaxis(3, 1)\n",
    "prediction = np.ndarray(len(test_data))\n",
    "with torch.no_grad():\n",
    "    for i, x in enumerate(test_data):\n",
    "        y_pred = model(x.unsqueeze(0))\n",
    "        prediction[i] = y_pred.argmax(1).item()"
   ]
  },
  {
   "cell_type": "code",
   "execution_count": 18,
   "id": "e795666d-deee-4732-9393-4d0465d2f03b",
   "metadata": {},
   "outputs": [
    {
     "data": {
      "application/vnd.jupyter.widget-view+json": {
       "model_id": "c924ec3d5c9946ebb43adc6206201b56",
       "version_major": 2,
       "version_minor": 0
      },
      "text/plain": [
       "interactive(children=(IntSlider(value=112, description='i', layout=Layout(width='1000px'), max=300), Output())…"
      ]
     },
     "metadata": {},
     "output_type": "display_data"
    }
   ],
   "source": [
    "def display(i):\n",
    "    plt.imshow(x_test[i])\n",
    "    plt.title(prediction[i])\n",
    "    plt.show()\n",
    "\n",
    "interact(display, i=IntSlider(random.randint(0,300), 0, 300, 1, layout=Layout(width='1000px')));"
   ]
  },
  {
   "cell_type": "markdown",
   "id": "7c1088b8-2259-4585-bb45-c8fddd59c03f",
   "metadata": {},
   "source": [
    "# "
   ]
  },
  {
   "cell_type": "code",
   "execution_count": null,
   "id": "552f1627-8af5-44cd-89db-01f5ef8edbd0",
   "metadata": {},
   "outputs": [],
   "source": []
  }
 ],
 "metadata": {
  "kernelspec": {
   "display_name": "Python 3",
   "language": "python",
   "name": "python3"
  },
  "language_info": {
   "codemirror_mode": {
    "name": "ipython",
    "version": 3
   },
   "file_extension": ".py",
   "mimetype": "text/x-python",
   "name": "python",
   "nbconvert_exporter": "python",
   "pygments_lexer": "ipython3",
   "version": "3.8.5"
  }
 },
 "nbformat": 4,
 "nbformat_minor": 5
}
