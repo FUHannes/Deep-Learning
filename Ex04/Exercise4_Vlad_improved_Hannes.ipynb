{
  "nbformat": 4,
  "nbformat_minor": 5,
  "metadata": {
    "kernelspec": {
      "display_name": "Python 3",
      "language": "python",
      "name": "python3"
    },
    "language_info": {
      "codemirror_mode": {
        "name": "ipython",
        "version": 3
      },
      "file_extension": ".py",
      "mimetype": "text/x-python",
      "name": "python",
      "nbconvert_exporter": "python",
      "pygments_lexer": "ipython3",
      "version": "3.8.5"
    },
    "colab": {
      "name": "Exercise4_Vlad.ipynb",
      "provenance": [],
      "include_colab_link": true
    }
  },
  "cells": [
    {
      "cell_type": "markdown",
      "metadata": {
        "id": "view-in-github",
        "colab_type": "text"
      },
      "source": [
        "<a href=\"https://colab.research.google.com/github/FUHannes/Deep-Learning/blob/main/Ex04/Exercise4_Vlad_improved_Hannes.ipynb\" target=\"_parent\"><img src=\"https://colab.research.google.com/assets/colab-badge.svg\" alt=\"Open In Colab\"/></a>"
      ]
    },
    {
      "cell_type": "code",
      "metadata": {
        "id": "aa0d075b-60cc-4053-90c8-f0bb620a2c6b"
      },
      "source": [
        "import time\n",
        "# for plotting\n",
        "import matplotlib.pyplot as plt\n",
        "\n",
        "# numpy is the standard numerical library for Python\n",
        "import numpy as np\n",
        "\n",
        "# torch is the deep learning library we are using in this course\n",
        "import torch\n",
        "\n",
        "from torch import nn, tensor"
      ],
      "id": "aa0d075b-60cc-4053-90c8-f0bb620a2c6b",
      "execution_count": 13,
      "outputs": []
    },
    {
      "cell_type": "code",
      "metadata": {
        "id": "51b953dc-dc86-4b1d-b9c4-323eb6cbabcb"
      },
      "source": [
        "from torch.utils.data import DataLoader, Dataset\n",
        "class CIFARDataset(Dataset):\n",
        "    def __init__(self, x_train, y_train):\n",
        "        self.x_train = torch.from_numpy(x_train).moveaxis(3, 1)\n",
        "        self.y_train = torch.from_numpy(y_train).type(torch.LongTensor)\n",
        "\n",
        "    def __len__(self):\n",
        "        return len(self.x_train)\n",
        "\n",
        "    def __getitem__(self, idx):\n",
        "        return self.x_train[idx], self.y_train[idx]"
      ],
      "id": "51b953dc-dc86-4b1d-b9c4-323eb6cbabcb",
      "execution_count": 14,
      "outputs": []
    },
    {
      "cell_type": "code",
      "metadata": {
        "id": "2c4dc73f-d19f-44ec-870a-c40513decb5b",
        "outputId": "aec90dd3-d3a8-414c-a756-4a27df728c92",
        "colab": {
          "base_uri": "https://localhost:8080/",
          "height": 366
        }
      },
      "source": [
        "fh = np.load('prediction-challenge-02-data-2.npz')\n",
        "x_train = fh['x_train']\n",
        "y_train = fh['y_train']\n",
        "x_test = fh['x_test']\n",
        "\n",
        "print(x_train.shape, x_train.dtype)\n",
        "print(y_train.shape, y_train.dtype)\n",
        "\n",
        "print(x_test.shape, x_test.dtype)\n",
        "\n",
        "plt.imshow(x_train[0])\n",
        "plt.title(y_train[0])\n",
        "plt.show()\n",
        "\n",
        "training_data = CIFARDataset(x_train, y_train)\n",
        "train_dataloader = DataLoader(training_data, batch_size=64, shuffle=True)\n",
        "\n",
        "train_features, train_labels = next(iter(train_dataloader))\n",
        "\n",
        "print(\"Data shapes:\")\n",
        "print(train_features.shape, train_labels.shape)"
      ],
      "id": "2c4dc73f-d19f-44ec-870a-c40513decb5b",
      "execution_count": 26,
      "outputs": [
        {
          "output_type": "stream",
          "text": [
            "(3000, 32, 32, 3) float32\n",
            "(3000,) float64\n",
            "(300, 32, 32, 3) float32\n"
          ],
          "name": "stdout"
        },
        {
          "output_type": "display_data",
          "data": {
            "image/png": "[encoded data removed]",
            "text/plain": [
              "<Figure size 432x288 with 1 Axes>"
            ]
          },
          "metadata": {
            "tags": [],
            "needs_background": "light"
          }
        },
        {
          "output_type": "stream",
          "text": [
            "Data shapes:\n",
            "torch.Size([64, 3, 32, 32]) torch.Size([64])\n"
          ],
          "name": "stdout"
        }
      ]
    },
    {
      "cell_type": "code",
      "metadata": {
        "id": "01aaa3c3-cf3a-40b5-a967-d931518294fd",
        "outputId": "d17243a7-9ab9-4d86-da5d-e367303ed965",
        "colab": {
          "base_uri": "https://localhost:8080/"
        }
      },
      "source": [
        "input_channels = 3\n",
        "hidden_sizes = [128, 64, 32, 32]\n",
        "output_size = 3\n",
        "\n",
        "hidden_layers = []\n",
        "for size_1, size_2 in zip(hidden_sizes, hidden_sizes[1:]):\n",
        "    hidden_layers.append(nn.Linear(size_1, size_2))\n",
        "    hidden_layers.append(nn.ReLU())\n",
        "\n",
        "model = nn.Sequential(\n",
        "          # 1st conv layer\n",
        "          nn.Conv2d(input_channels, 6, kernel_size=3),\n",
        "          nn.ReLU(),\n",
        "          nn.MaxPool2d(kernel_size=2, stride=2),\n",
        "    \n",
        "          # 2st conv layer\n",
        "          nn.Conv2d(6, 16, kernel_size=3),\n",
        "          nn.ReLU(),\n",
        "          nn.MaxPool2d(kernel_size=2, stride=2),\n",
        "    \n",
        "          # deep neural network\n",
        "          nn.Flatten(1),\n",
        "          nn.Linear(16 *6*6, hidden_sizes[0]),\n",
        "          nn.ReLU(),\n",
        "          *hidden_layers,\n",
        "          nn.Dropout(),\n",
        "          nn.Linear(hidden_sizes[-1], output_size),\n",
        ")\n",
        "print(model)"
      ],
      "id": "01aaa3c3-cf3a-40b5-a967-d931518294fd",
      "execution_count": 51,
      "outputs": [
        {
          "output_type": "stream",
          "text": [
            "Sequential(\n",
            "  (0): Conv2d(3, 6, kernel_size=(3, 3), stride=(1, 1))\n",
            "  (1): ReLU()\n",
            "  (2): MaxPool2d(kernel_size=2, stride=2, padding=0, dilation=1, ceil_mode=False)\n",
            "  (3): Conv2d(6, 16, kernel_size=(3, 3), stride=(1, 1))\n",
            "  (4): ReLU()\n",
            "  (5): MaxPool2d(kernel_size=2, stride=2, padding=0, dilation=1, ceil_mode=False)\n",
            "  (6): Flatten(start_dim=1, end_dim=-1)\n",
            "  (7): Linear(in_features=576, out_features=128, bias=True)\n",
            "  (8): ReLU()\n",
            "  (9): Linear(in_features=128, out_features=64, bias=True)\n",
            "  (10): ReLU()\n",
            "  (11): Linear(in_features=64, out_features=32, bias=True)\n",
            "  (12): ReLU()\n",
            "  (13): Linear(in_features=32, out_features=32, bias=True)\n",
            "  (14): ReLU()\n",
            "  (15): Dropout(p=0.5, inplace=False)\n",
            "  (16): Linear(in_features=32, out_features=3, bias=True)\n",
            ")\n"
          ],
          "name": "stdout"
        }
      ]
    },
    {
      "cell_type": "code",
      "metadata": {
        "id": "C9UKj8LEd6zd"
      },
      "source": [
        "labels = {0.0:'cat', 1.0:'dog', 2.0:'frog'}"
      ],
      "id": "C9UKj8LEd6zd",
      "execution_count": 62,
      "outputs": []
    },
    {
      "cell_type": "code",
      "metadata": {
        "id": "6eaf4605-7f26-4341-8837-f23582870bd9",
        "outputId": "f5edfe4f-9373-47f3-b2ce-9d10ca48ecc5",
        "colab": {
          "base_uri": "https://localhost:8080/"
        }
      },
      "source": [
        "a = model(train_features)\n",
        "a.shape"
      ],
      "id": "6eaf4605-7f26-4341-8837-f23582870bd9",
      "execution_count": 53,
      "outputs": [
        {
          "output_type": "execute_result",
          "data": {
            "text/plain": [
              "torch.Size([64, 3])"
            ]
          },
          "metadata": {
            "tags": []
          },
          "execution_count": 53
        }
      ]
    },
    {
      "cell_type": "code",
      "metadata": {
        "id": "c4a57feb-9673-48a6-8652-fb3555a7b745",
        "outputId": "b8979de3-74bc-4a39-a1a1-4cacfe4dc208",
        "colab": {
          "base_uri": "https://localhost:8080/"
        }
      },
      "source": [
        "loss_fn = nn.CrossEntropyLoss()\n",
        "optimizer = torch.optim.SGD(model.parameters(), lr=0.003, momentum=0.9)\n",
        "time0 = time.time()\n",
        "epochs = 200\n",
        "     \n",
        "for e in range(epochs):\n",
        "    running_loss = 0\n",
        "    \n",
        "    for i, (x, y) in enumerate(train_dataloader):\n",
        "        # Training pass\n",
        "        optimizer.zero_grad()\n",
        "\n",
        "        y_pred = model(x)\n",
        "        loss = loss_fn(y_pred, y)\n",
        "\n",
        "        #This is where the model learns by backpropagating\n",
        "        loss.backward()\n",
        "\n",
        "        #And optimizes its weights here\n",
        "        optimizer.step()\n",
        "\n",
        "        running_loss += loss.item()\n",
        "    print(f\"Epoch {e} - Training loss: {running_loss/len(x[0])}\", end=\"\\r\")\n",
        "\n",
        "\n",
        "print(\"\\nTraining Time (in minutes) =\",(time.time()-time0)/60) \n"
      ],
      "id": "c4a57feb-9673-48a6-8652-fb3555a7b745",
      "execution_count": 54,
      "outputs": [
        {
          "output_type": "stream",
          "text": [
            "Epoch 199 - Training loss: 0.6281312654415766\n",
            "Training Time (in minutes) = 2.3258826812108357\n"
          ],
          "name": "stdout"
        }
      ]
    },
    {
      "cell_type": "code",
      "metadata": {
        "id": "9f8851c9-4b4d-44dd-b6a7-e497e976af6f",
        "outputId": "d9b44cb8-a2c9-4fcb-db71-6626a1be118f",
        "colab": {
          "base_uri": "https://localhost:8080/"
        }
      },
      "source": [
        "size = len(train_dataloader.dataset)\n",
        "test_loss, correct = 0, 0\n",
        "\n",
        "with torch.no_grad():\n",
        "    for i in range(size):\n",
        "        x = train_dataloader.dataset.x_train[i].unsqueeze(0)\n",
        "        y = train_dataloader.dataset.y_train[i].unsqueeze(0)\n",
        "        pred = model(x)\n",
        "        test_loss += loss_fn(pred, y).item()\n",
        "        correct += (pred.argmax(1) == y).type(torch.float).sum().item()\n",
        "\n",
        "        print(f\"{i}  Accuracy: {(100*correct/size):>0.1f}%, Avg loss: {test_loss/size:>8f}\", end=\"\\r\")"
      ],
      "id": "9f8851c9-4b4d-44dd-b6a7-e497e976af6f",
      "execution_count": 55,
      "outputs": [
        {
          "output_type": "stream",
          "text": [
            ""
          ],
          "name": "stdout"
        }
      ]
    },
    {
      "cell_type": "code",
      "metadata": {
        "id": "feeb748a-bd68-45ed-b95c-45c09841b819"
      },
      "source": [
        "test_data = torch.from_numpy(x_test).moveaxis(3, 1)\n",
        "prediction = np.ndarray(len(test_data))\n",
        "with torch.no_grad():\n",
        "    for i, x in enumerate(test_data):\n",
        "        y_pred = model(x.unsqueeze(0))\n",
        "        prediction[i] = y_pred.argmax(1).item()"
      ],
      "id": "feeb748a-bd68-45ed-b95c-45c09841b819",
      "execution_count": 56,
      "outputs": []
    },
    {
      "cell_type": "code",
      "metadata": {
        "id": "y53XrGdjhCDL"
      },
      "source": [
        "from random import randint"
      ],
      "id": "y53XrGdjhCDL",
      "execution_count": 65,
      "outputs": []
    },
    {
      "cell_type": "code",
      "metadata": {
        "id": "e795666d-deee-4732-9393-4d0465d2f03b",
        "outputId": "424d9c00-af5c-4b67-dbaf-88ce93f969e6",
        "colab": {
          "base_uri": "https://localhost:8080/",
          "height": 281
        }
      },
      "source": [
        "i = randint(0,300)\n",
        "\n",
        "\n",
        "plt.imshow(x_test[i])\n",
        "plt.title(labels[prediction[i]])\n",
        "plt.show()"
      ],
      "id": "e795666d-deee-4732-9393-4d0465d2f03b",
      "execution_count": 73,
      "outputs": [
        {
          "output_type": "display_data",
          "data": {
            "image/png": "[encoded data removed]",
            "text/plain": [
              "<Figure size 432x288 with 1 Axes>"
            ]
          },
          "metadata": {
            "tags": [],
            "needs_background": "light"
          }
        }
      ]
    },
    {
      "cell_type": "markdown",
      "metadata": {
        "id": "7c1088b8-2259-4585-bb45-c8fddd59c03f"
      },
      "source": [
        "# "
      ],
      "id": "7c1088b8-2259-4585-bb45-c8fddd59c03f"
    }
  ]
}