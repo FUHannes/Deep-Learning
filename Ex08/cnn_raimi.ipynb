{
 "cells": [
  {
   "cell_type": "code",
   "execution_count": 1,
   "metadata": {
    "collapsed": false,
    "jupyter": {
     "outputs_hidden": false
    }
   },
   "outputs": [],
   "source": [
    "%matplotlib inline"
   ]
  },
  {
   "cell_type": "code",
   "execution_count": 2,
   "metadata": {},
   "outputs": [],
   "source": [
    "import numpy as np\n",
    "import torch\n",
    "import torch.nn as nn\n",
    "import time\n",
    "import math\n",
    "import matplotlib.pyplot as plt\n",
    "import matplotlib.ticker as ticker\n",
    "import torch\n",
    "import torch.nn.functional as F\n",
    "import torchvision\n",
    "import torchvision.transforms as transforms"
   ]
  },
  {
   "cell_type": "code",
   "execution_count": 3,
   "metadata": {},
   "outputs": [
    {
     "name": "stdout",
     "output_type": "stream",
     "text": [
      "(400,) <U400\n",
      "(400,) int64\n",
      "(100,) <U1200\n",
      "(100,) int64\n",
      "(250,) <U2000\n"
     ]
    }
   ],
   "source": [
    "with open('rnn-challenge-data.npz', 'rb') as f:\n",
    "    X = np.load(f)\n",
    "    data_x = X['data_x']\n",
    "    data_y = X['data_y']\n",
    "    val_x = X['val_x']\n",
    "    val_y = X['val_y']\n",
    "    test_x = X['test_x']\n",
    "\n",
    "# TRAINING DATA: INPUT (x) AND OUTPUT (y)\n",
    "print(data_x.shape, data_x.dtype)\n",
    "print(data_y.shape, data_y.dtype)\n",
    "\n",
    "# VALIDATION DATA: INPUT (x) AND OUTPUT (y)\n",
    "print(val_x.shape, val_x.dtype)\n",
    "print(val_y.shape, val_y.dtype)\n",
    "\n",
    "# TEST DATA: INPUT (x) ONLY\n",
    "print(test_x.shape, test_x.dtype)"
   ]
  },
  {
   "cell_type": "code",
   "execution_count": 4,
   "metadata": {
    "collapsed": false,
    "jupyter": {
     "outputs_hidden": false
    }
   },
   "outputs": [],
   "source": [
    "def zero_pad_1d(source, target_size = 500):\n",
    "    source_size = source.size()[-1]\n",
    "    pad_size = int((target_size - source_size)/2)\n",
    "    residual = int((target_size - source_size)%2)\n",
    "    return F.pad(input=source, pad=(pad_size,pad_size+residual), mode='constant', value=0)\n",
    "\n",
    "def categoryFromOutput(output):\n",
    "    \"\"\"Interpret the output of the network, which we know to be a likelihood of each category. \n",
    "    We can use Tensor.topk to get the index of the greatest value:\"\"\"\n",
    "    top_n, top_i = output.topk(1)\n",
    "    category_i = top_i[0].item()\n",
    "    return all_categories[category_i], category_i\n",
    "\n",
    "def genSeqToTensor(gen_seq):\n",
    "    \"\"\"Turn a sequence of genetic code into a <sequence_length x 1 x n_nucleobases> Tensor.\"\"\"\n",
    "    tensor = torch.zeros(1, len(gen_seq))\n",
    "    for idx, nucleobase in enumerate(gen_seq):\n",
    "        tensor[0,idx] = nucleobaseIndices[nucleobase]\n",
    "    return zero_pad_1d(tensor)\n",
    "\n",
    "nucleobaseIndices = {\n",
    "    \"A\":0,\n",
    "    \"C\":1,\n",
    "    \"G\":2,\n",
    "    \"T\":3\n",
    "}\n",
    "\n",
    "all_nucleobases = list(nucleobaseIndices.keys())\n",
    "n_nucleobases = len(nucleobaseIndices)\n",
    "all_categories = [\"class 0\",\"class 1\",\"class 2\",\"class 3\",\"class 4\"]\n",
    "n_categories = len(all_categories)\n",
    "\n"
   ]
  },
  {
   "cell_type": "code",
   "execution_count": 5,
   "metadata": {},
   "outputs": [],
   "source": [
    "class GenSeqDataset(torch.utils.data.Dataset):\n",
    "    def __init__(self, gen_sequences, labels):\n",
    "        self.gen_sequences = gen_sequences\n",
    "        self.labels = labels\n",
    "\n",
    "    def __len__(self):\n",
    "        return len(self.labels)\n",
    "\n",
    "    def __getitem__(self, idx):\n",
    "        gen_seq= self.gen_sequences[idx]\n",
    "        gen_seq_tensor = genSeqToTensor( gen_seq)\n",
    "        label_tensor = self.labels[idx]\n",
    "        label = all_categories[label_tensor]\n",
    "        label_tensor = torch.tensor([label_tensor], dtype=torch.long)\n",
    "        return label, gen_seq, label_tensor, gen_seq_tensor\n",
    "data_ds = GenSeqDataset(data_x, data_y)\n",
    "data_dl = torch.utils.data.DataLoader(data_ds, batch_size=4,\n",
    "                        shuffle=True, num_workers=2)"
   ]
  },
  {
   "cell_type": "code",
   "execution_count": 6,
   "metadata": {
    "collapsed": false,
    "jupyter": {
     "outputs_hidden": false
    }
   },
   "outputs": [],
   "source": [
    "import torch.nn as nn\n",
    "import torch.nn.functional as F\n",
    "\n",
    "\n",
    "class Net(nn.Module):\n",
    "    def __init__(self):\n",
    "        super().__init__()\n",
    "        self.conv1 = nn.Conv1d(1, 6, 5)\n",
    "        self.pool = nn.MaxPool1d(2)\n",
    "        self.conv2 = nn.Conv1d(6, 16 , 5)\n",
    "        self.fc1 = nn.Linear(1952, 120)\n",
    "        self.drop1 = nn.Dropout()\n",
    "        self.fc2 = nn.Linear(120, 84)\n",
    "        self.drop2 = nn.Dropout()\n",
    "        self.fc3 = nn.Linear(84, n_categories)\n",
    "\n",
    "    def forward(self, x):\n",
    "        x = self.pool(F.relu(self.conv1(x)))\n",
    "        x = self.pool(F.relu(self.conv2(x)))\n",
    "        x = torch.flatten(x, 1) # flatten all dimensions except batch\n",
    "        x = self.drop1(F.relu(self.fc1(x)))\n",
    "        x = self.drop2(F.relu(self.fc2(x)))\n",
    "        x = self.fc3(x)\n",
    "        return x\n",
    "\n",
    "\n",
    "net = Net()"
   ]
  },
  {
   "cell_type": "code",
   "execution_count": 7,
   "metadata": {
    "collapsed": false,
    "jupyter": {
     "outputs_hidden": false
    }
   },
   "outputs": [],
   "source": [
    "import torch.optim as optim\n",
    "\n",
    "criterion = nn.CrossEntropyLoss()\n",
    "optimizer = optim.Adam(net.parameters())"
   ]
  },
  {
   "cell_type": "code",
   "execution_count": 9,
   "metadata": {
    "collapsed": false,
    "jupyter": {
     "outputs_hidden": false
    }
   },
   "outputs": [
    {
     "name": "stdout",
     "output_type": "stream",
     "text": [
      "[1,    10] loss: 0.003\n",
      "[1,    20] loss: 0.004\n",
      "[1,    30] loss: 0.003\n",
      "[1,    40] loss: 0.003\n",
      "[1,    50] loss: 0.003\n",
      "[1,    60] loss: 0.003\n",
      "[1,    70] loss: 0.002\n",
      "[1,    80] loss: 0.003\n",
      "[1,    90] loss: 0.003\n",
      "[1,   100] loss: 0.003\n",
      "[2,    10] loss: 0.003\n",
      "[2,    20] loss: 0.002\n",
      "[2,    30] loss: 0.003\n",
      "[2,    40] loss: 0.002\n",
      "[2,    50] loss: 0.002\n",
      "[2,    60] loss: 0.003\n",
      "[2,    70] loss: 0.003\n",
      "[2,    80] loss: 0.002\n",
      "[2,    90] loss: 0.003\n",
      "[2,   100] loss: 0.002\n",
      "[3,    10] loss: 0.003\n",
      "[3,    20] loss: 0.002\n",
      "[3,    30] loss: 0.003\n",
      "[3,    40] loss: 0.002\n",
      "[3,    50] loss: 0.002\n",
      "[3,    60] loss: 0.002\n",
      "[3,    70] loss: 0.002\n",
      "[3,    80] loss: 0.003\n",
      "[3,    90] loss: 0.002\n",
      "[3,   100] loss: 0.002\n",
      "[4,    10] loss: 0.002\n",
      "[4,    20] loss: 0.002\n",
      "[4,    30] loss: 0.002\n",
      "[4,    40] loss: 0.001\n",
      "[4,    50] loss: 0.002\n",
      "[4,    60] loss: 0.002\n",
      "[4,    70] loss: 0.002\n",
      "[4,    80] loss: 0.001\n",
      "[4,    90] loss: 0.001\n",
      "[4,   100] loss: 0.002\n",
      "[5,    10] loss: 0.002\n",
      "[5,    20] loss: 0.002\n",
      "[5,    30] loss: 0.001\n",
      "[5,    40] loss: 0.001\n",
      "[5,    50] loss: 0.002\n",
      "[5,    60] loss: 0.002\n",
      "[5,    70] loss: 0.002\n",
      "[5,    80] loss: 0.003\n",
      "[5,    90] loss: 0.001\n",
      "[5,   100] loss: 0.001\n",
      "[6,    10] loss: 0.001\n",
      "[6,    20] loss: 0.001\n",
      "[6,    30] loss: 0.001\n",
      "[6,    40] loss: 0.001\n",
      "[6,    50] loss: 0.001\n",
      "[6,    60] loss: 0.001\n",
      "[6,    70] loss: 0.001\n",
      "[6,    80] loss: 0.001\n",
      "[6,    90] loss: 0.001\n",
      "[6,   100] loss: 0.001\n",
      "[7,    10] loss: 0.001\n",
      "[7,    20] loss: 0.001\n",
      "[7,    30] loss: 0.001\n",
      "[7,    40] loss: 0.001\n",
      "[7,    50] loss: 0.001\n",
      "[7,    60] loss: 0.001\n",
      "[7,    70] loss: 0.001\n",
      "[7,    80] loss: 0.001\n",
      "[7,    90] loss: 0.001\n",
      "[7,   100] loss: 0.001\n",
      "[8,    10] loss: 0.001\n",
      "[8,    20] loss: 0.001\n",
      "[8,    30] loss: 0.001\n",
      "[8,    40] loss: 0.001\n",
      "[8,    50] loss: 0.001\n",
      "[8,    60] loss: 0.001\n",
      "[8,    70] loss: 0.001\n",
      "[8,    80] loss: 0.001\n",
      "[8,    90] loss: 0.001\n",
      "[8,   100] loss: 0.001\n",
      "[9,    10] loss: 0.000\n",
      "[9,    20] loss: 0.001\n",
      "[9,    30] loss: 0.000\n",
      "[9,    40] loss: 0.001\n",
      "[9,    50] loss: 0.001\n",
      "[9,    60] loss: 0.001\n",
      "[9,    70] loss: 0.001\n",
      "[9,    80] loss: 0.000\n",
      "[9,    90] loss: 0.001\n",
      "[9,   100] loss: 0.001\n",
      "[10,    10] loss: 0.001\n",
      "[10,    20] loss: 0.001\n",
      "[10,    30] loss: 0.001\n",
      "[10,    40] loss: 0.001\n",
      "[10,    50] loss: 0.001\n",
      "[10,    60] loss: 0.001\n",
      "[10,    70] loss: 0.000\n",
      "[10,    80] loss: 0.000\n",
      "[10,    90] loss: 0.000\n",
      "[10,   100] loss: 0.001\n",
      "[11,    10] loss: 0.000\n",
      "[11,    20] loss: 0.001\n",
      "[11,    30] loss: 0.000\n",
      "[11,    40] loss: 0.001\n",
      "[11,    50] loss: 0.001\n",
      "[11,    60] loss: 0.000\n",
      "[11,    70] loss: 0.000\n",
      "[11,    80] loss: 0.001\n",
      "[11,    90] loss: 0.001\n",
      "[11,   100] loss: 0.001\n",
      "[12,    10] loss: 0.000\n",
      "[12,    20] loss: 0.000\n",
      "[12,    30] loss: 0.000\n",
      "[12,    40] loss: 0.001\n",
      "[12,    50] loss: 0.000\n",
      "[12,    60] loss: 0.000\n",
      "[12,    70] loss: 0.001\n",
      "[12,    80] loss: 0.000\n",
      "[12,    90] loss: 0.001\n",
      "[12,   100] loss: 0.001\n",
      "[13,    10] loss: 0.000\n",
      "[13,    20] loss: 0.000\n",
      "[13,    30] loss: 0.000\n",
      "[13,    40] loss: 0.001\n",
      "[13,    50] loss: 0.000\n",
      "[13,    60] loss: 0.001\n",
      "[13,    70] loss: 0.001\n",
      "[13,    80] loss: 0.000\n",
      "[13,    90] loss: 0.001\n",
      "[13,   100] loss: 0.000\n",
      "[14,    10] loss: 0.001\n",
      "[14,    20] loss: 0.002\n",
      "[14,    30] loss: 0.001\n",
      "[14,    40] loss: 0.001\n",
      "[14,    50] loss: 0.001\n",
      "[14,    60] loss: 0.001\n",
      "[14,    70] loss: 0.000\n",
      "[14,    80] loss: 0.000\n",
      "[14,    90] loss: 0.000\n",
      "[14,   100] loss: 0.001\n",
      "[15,    10] loss: 0.000\n",
      "[15,    20] loss: 0.000\n",
      "[15,    30] loss: 0.000\n",
      "[15,    40] loss: 0.000\n",
      "[15,    50] loss: 0.000\n",
      "[15,    60] loss: 0.000\n",
      "[15,    70] loss: 0.001\n",
      "[15,    80] loss: 0.001\n",
      "[15,    90] loss: 0.000\n",
      "[15,   100] loss: 0.000\n",
      "[16,    10] loss: 0.000\n",
      "[16,    20] loss: 0.000\n",
      "[16,    30] loss: 0.000\n",
      "[16,    40] loss: 0.000\n",
      "[16,    50] loss: 0.000\n",
      "[16,    60] loss: 0.000\n",
      "[16,    70] loss: 0.000\n",
      "[16,    80] loss: 0.000\n",
      "[16,    90] loss: 0.000\n",
      "[16,   100] loss: 0.000\n",
      "[17,    10] loss: 0.000\n",
      "[17,    20] loss: 0.000\n",
      "[17,    30] loss: 0.001\n",
      "[17,    40] loss: 0.001\n",
      "[17,    50] loss: 0.001\n",
      "[17,    60] loss: 0.000\n",
      "[17,    70] loss: 0.001\n",
      "[17,    80] loss: 0.001\n",
      "[17,    90] loss: 0.000\n",
      "[17,   100] loss: 0.000\n",
      "[18,    10] loss: 0.000\n",
      "[18,    20] loss: 0.000\n",
      "[18,    30] loss: 0.000\n",
      "[18,    40] loss: 0.001\n",
      "[18,    50] loss: 0.001\n",
      "[18,    60] loss: 0.001\n",
      "[18,    70] loss: 0.000\n",
      "[18,    80] loss: 0.001\n",
      "[18,    90] loss: 0.000\n",
      "[18,   100] loss: 0.000\n",
      "[19,    10] loss: 0.000\n",
      "[19,    20] loss: 0.001\n",
      "[19,    30] loss: 0.000\n",
      "[19,    40] loss: 0.000\n",
      "[19,    50] loss: 0.000\n",
      "[19,    60] loss: 0.000\n",
      "[19,    70] loss: 0.001\n",
      "[19,    80] loss: 0.000\n",
      "[19,    90] loss: 0.000\n",
      "[19,   100] loss: 0.001\n",
      "[20,    10] loss: 0.000\n",
      "[20,    20] loss: 0.000\n",
      "[20,    30] loss: 0.001\n",
      "[20,    40] loss: 0.000\n",
      "[20,    50] loss: 0.000\n",
      "[20,    60] loss: 0.001\n",
      "[20,    70] loss: 0.000\n",
      "[20,    80] loss: 0.001\n",
      "[20,    90] loss: 0.000\n",
      "[20,   100] loss: 0.001\n",
      "Finished Training\n"
     ]
    }
   ],
   "source": [
    "for epoch in range(20):  # loop over the dataset multiple times\n",
    "\n",
    "    running_loss = 0.0\n",
    "    for i, data in enumerate(data_dl, 0):\n",
    "        # get the inputs; data is a list of [inputs, labels]\n",
    "        _,_,labels,inputs = data\n",
    "        labels = torch.flatten(labels, 0)\n",
    "\n",
    "        # zero the parameter gradients\n",
    "        optimizer.zero_grad()\n",
    "\n",
    "        # forward + backward + optimize\n",
    "        outputs = net(inputs)\n",
    "        loss = criterion(outputs, labels)\n",
    "        loss.backward()\n",
    "        optimizer.step()\n",
    "        \n",
    "        # print statistics\n",
    "        running_loss += loss.item()\n",
    "        if i % 10 == 9:    # print every 10 mini-batches\n",
    "            print('[%d, %5d] loss: %.3f' %\n",
    "                  (epoch + 1, i + 1, running_loss / 2000))\n",
    "            running_loss = 0.0\n",
    "\n",
    "print('Finished Training')"
   ]
  },
  {
   "cell_type": "code",
   "execution_count": null,
   "metadata": {
    "collapsed": false,
    "jupyter": {
     "outputs_hidden": false
    }
   },
   "outputs": [],
   "source": [
    "#PATH = './cifar_net.pth'\n",
    "#torch.save(net.state_dict(), PATH)"
   ]
  },
  {
   "cell_type": "code",
   "execution_count": 10,
   "metadata": {},
   "outputs": [
    {
     "data": {
      "text/plain": [
       "Net(\n",
       "  (conv1): Conv1d(1, 6, kernel_size=(5,), stride=(1,))\n",
       "  (pool): MaxPool1d(kernel_size=2, stride=2, padding=0, dilation=1, ceil_mode=False)\n",
       "  (conv2): Conv1d(6, 16, kernel_size=(5,), stride=(1,))\n",
       "  (fc1): Linear(in_features=1952, out_features=120, bias=True)\n",
       "  (drop1): Dropout(p=0.5, inplace=False)\n",
       "  (fc2): Linear(in_features=120, out_features=84, bias=True)\n",
       "  (drop2): Dropout(p=0.5, inplace=False)\n",
       "  (fc3): Linear(in_features=84, out_features=5, bias=True)\n",
       ")"
      ]
     },
     "execution_count": 10,
     "metadata": {},
     "output_type": "execute_result"
    }
   ],
   "source": [
    "net.eval()"
   ]
  },
  {
   "cell_type": "code",
   "execution_count": 11,
   "metadata": {},
   "outputs": [
    {
     "name": "stderr",
     "output_type": "stream",
     "text": [
      "/home/center/.pyenv/versions/3.7.9/envs/dl-pt/lib/python3.7/site-packages/ipykernel_launcher.py:35: UserWarning: FixedFormatter should only be used together with FixedLocator\n",
      "/home/center/.pyenv/versions/3.7.9/envs/dl-pt/lib/python3.7/site-packages/ipykernel_launcher.py:36: UserWarning: FixedFormatter should only be used together with FixedLocator\n"
     ]
    },
    {
     "data": {
      "image/png": "[encoded data removed]",
      "text/plain": [
       "<Figure size 432x288 with 2 Axes>"
      ]
     },
     "metadata": {
      "needs_background": "light"
     },
     "output_type": "display_data"
    }
   ],
   "source": [
    "# Load validation dataset\n",
    "val_ds = GenSeqDataset(val_x, val_y)\n",
    "val_dl = torch.utils.data.DataLoader(val_ds, batch_size=1,\n",
    "                        shuffle=True, num_workers=0)\n",
    "\n",
    "# Keep track of correct guesses in a confusion matrix\n",
    "confusion = torch.zeros(n_categories, n_categories)\n",
    "n_confusion = int(200 / len(val_ds))\n",
    "\n",
    "# Just return an output given a line\n",
    "def evaluate(line_tensor):\n",
    "    \"\"\"Same as train() without the backprop.\"\"\"\n",
    "    return net(line_tensor)\n",
    "\n",
    "# Go through a bunch of examples and record which are correctly guessed\n",
    "for i in range(n_confusion):\n",
    "    for category, gen_seq, category_tensor, gen_seq_tensor in val_dl:\n",
    "        category, gen_seq, category_tensor = category[0], gen_seq[0], category_tensor[0]\n",
    "        output = evaluate(gen_seq_tensor)\n",
    "        guess, guess_i = categoryFromOutput(output)\n",
    "        category_i = all_categories.index(category)\n",
    "        confusion[category_i][guess_i] += 1\n",
    "\n",
    "# Normalize by dividing every row by its sum\n",
    "for i in range(n_categories):\n",
    "    confusion[i] = confusion[i] / confusion[i].sum()\n",
    "\n",
    "# Set up plot\n",
    "fig = plt.figure()\n",
    "ax = fig.add_subplot(111)\n",
    "cax = ax.matshow(confusion.numpy())\n",
    "fig.colorbar(cax)\n",
    "\n",
    "# Set up axes\n",
    "ax.set_xticklabels([''] + all_categories, rotation=90)\n",
    "ax.set_yticklabels([''] + all_categories)\n",
    "\n",
    "# Force label at every tick\n",
    "ax.xaxis.set_major_locator(ticker.MultipleLocator(1))\n",
    "ax.yaxis.set_major_locator(ticker.MultipleLocator(1))\n",
    "\n",
    "# sphinx_gallery_thumbnail_number = 2\n",
    "plt.show()"
   ]
  },
  {
   "cell_type": "code",
   "execution_count": 12,
   "metadata": {},
   "outputs": [],
   "source": [
    "def predict(input_line, n_predictions=3):\n",
    "    with torch.no_grad():\n",
    "        output = evaluate(genSeqToTensor(input_line).unsqueeze(0))\n",
    "        return categoryFromOutput(output)[1]\n",
    "\n",
    "prediction = np.fromiter((predict(xi) for xi in test_x), int)\n",
    "validation = np.fromiter((predict(xi) for xi in val_x), int)"
   ]
  },
  {
   "cell_type": "code",
   "execution_count": 13,
   "metadata": {},
   "outputs": [
    {
     "data": {
      "text/plain": [
       "0.98"
      ]
     },
     "execution_count": 13,
     "metadata": {},
     "output_type": "execute_result"
    }
   ],
   "source": [
    "(validation == val_y).sum() / len(val_y)"
   ]
  },
  {
   "cell_type": "code",
   "execution_count": null,
   "metadata": {
    "collapsed": false,
    "jupyter": {
     "outputs_hidden": false
    }
   },
   "outputs": [],
   "source": [
    "#net = Net()\n",
    "#net.load_state_dict(torch.load(PATH))"
   ]
  },
  {
   "cell_type": "markdown",
   "metadata": {},
   "source": [
    "Okay, now let us see what the neural network thinks these examples above are:\n",
    "\n"
   ]
  }
 ],
 "metadata": {
  "kernelspec": {
   "display_name": "dl-pt",
   "language": "python",
   "name": "dl-pt"
  },
  "language_info": {
   "codemirror_mode": {
    "name": "ipython",
    "version": 3
   },
   "file_extension": ".py",
   "mimetype": "text/x-python",
   "name": "python",
   "nbconvert_exporter": "python",
   "pygments_lexer": "ipython3",
   "version": "3.7.9"
  }
 },
 "nbformat": 4,
 "nbformat_minor": 4
}
