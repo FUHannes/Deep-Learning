{
 "cells": [
  {
   "cell_type": "markdown",
   "metadata": {},
   "source": [
    "# RNN Challenge\n",
    "In this challenge, the goal is to train a classifier for sequences of genetic code.\n",
    "\n",
    "**NOTE:** This notebook is based on: [NLP From Scratch: Classifying Names with a Character-Level RNN from Sean Robertson <https://github.com/spro/practical-pytorch>](https://pytorch.org/tutorials/intermediate/char_rnn_classification_tutorial.html)"
   ]
  },
  {
   "cell_type": "code",
   "execution_count": 1,
   "metadata": {
    "collapsed": false,
    "jupyter": {
     "outputs_hidden": false
    }
   },
   "outputs": [],
   "source": [
    "%matplotlib inline\n",
    "import numpy as np\n",
    "import torch\n",
    "import torch.nn as nn\n",
    "import time\n",
    "import math\n",
    "import matplotlib.pyplot as plt\n",
    "import matplotlib.ticker as ticker"
   ]
  },
  {
   "cell_type": "markdown",
   "metadata": {},
   "source": [
    "## Load Data"
   ]
  },
  {
   "cell_type": "code",
   "execution_count": 2,
   "metadata": {},
   "outputs": [
    {
     "name": "stdout",
     "output_type": "stream",
     "text": [
      "(400,) <U400\n",
      "(400,) int64\n",
      "(100,) <U1200\n",
      "(100,) int64\n",
      "(250,) <U2000\n"
     ]
    }
   ],
   "source": [
    "with open('rnn-challenge-data.npz', 'rb') as f:\n",
    "    X = np.load(f)\n",
    "    data_x = X['data_x']\n",
    "    data_y = X['data_y']\n",
    "    val_x = X['val_x']\n",
    "    val_y = X['val_y']\n",
    "    test_x = X['test_x']\n",
    "\n",
    "# TRAINING DATA: INPUT (x) AND OUTPUT (y)\n",
    "print(data_x.shape, data_x.dtype)\n",
    "print(data_y.shape, data_y.dtype)\n",
    "\n",
    "# VALIDATION DATA: INPUT (x) AND OUTPUT (y)\n",
    "print(val_x.shape, val_x.dtype)\n",
    "print(val_y.shape, val_y.dtype)\n",
    "\n",
    "# TEST DATA: INPUT (x) ONLY\n",
    "print(test_x.shape, test_x.dtype)"
   ]
  },
  {
   "cell_type": "markdown",
   "metadata": {},
   "source": [
    "## Helper Methods and Variables\n",
    "\n"
   ]
  },
  {
   "cell_type": "code",
   "execution_count": 3,
   "metadata": {},
   "outputs": [],
   "source": [
    "def categoryFromOutput(output):\n",
    "    \"\"\"Interpret the output of the network, which we know to be a likelihood of each category. \n",
    "    We can use Tensor.topk to get the index of the greatest value:\"\"\"\n",
    "    top_n, top_i = output.topk(1)\n",
    "    category_i = top_i[0].item()\n",
    "    return all_categories[category_i], category_i\n",
    "\n",
    "def genSeqToTensor(gen_seq):\n",
    "    \"\"\"Turn a sequence of genetic code into a <sequence_length x 1 x n_nucleobases> Tensor.\"\"\"\n",
    "    tensor = torch.zeros(len(gen_seq), 1, len(nucleobaseIndices))\n",
    "    for idx, nucleobase in enumerate(gen_seq):\n",
    "        tensor[idx][0][nucleobaseIndices[nucleobase]] = 1\n",
    "    return tensor\n",
    "\n",
    "nucleobaseIndices = {\n",
    "    \"A\":0,\n",
    "    \"C\":1,\n",
    "    \"G\":2,\n",
    "    \"T\":3\n",
    "}\n",
    "\n",
    "all_nucleobases = list(nucleobaseIndices.keys())\n",
    "n_nucleobases = len(nucleobaseIndices)\n",
    "all_categories = [\"class 0\",\"class 1\",\"class 2\",\"class 3\",\"class 4\"]\n",
    "n_categories = len(all_categories)\n",
    "\n"
   ]
  },
  {
   "cell_type": "markdown",
   "metadata": {},
   "source": [
    "## Custom Dataset"
   ]
  },
  {
   "cell_type": "code",
   "execution_count": 4,
   "metadata": {},
   "outputs": [],
   "source": [
    "class GenSeqDataset(torch.utils.data.Dataset):\n",
    "    def __init__(self, gen_sequences, labels):\n",
    "        self.gen_sequences = gen_sequences\n",
    "        self.labels = labels\n",
    "\n",
    "    def __len__(self):\n",
    "        return len(self.labels)\n",
    "\n",
    "    def __getitem__(self, idx):\n",
    "        gen_seq= self.gen_sequences[idx]\n",
    "        gen_seq_tensor = genSeqToTensor( gen_seq)\n",
    "        label_tensor = self.labels[idx]\n",
    "        label = all_categories[label_tensor]\n",
    "        label_tensor = torch.tensor([label_tensor], dtype=torch.long)\n",
    "        return ( label,gen_seq, label_tensor,gen_seq_tensor)\n",
    "data_ds = GenSeqDataset(data_x, data_y)\n",
    "data_dl = torch.utils.data.DataLoader(data_ds, batch_size=1,\n",
    "                        shuffle=True, num_workers=0)"
   ]
  },
  {
   "cell_type": "markdown",
   "metadata": {},
   "source": [
    "## Define RNN\n",
    "This RNN module (mostly copied from [the PyTorch for Torch users tutorial](https://pytorch.org/tutorials/beginner/former_torchies/nn_tutorial.html#example-2-recurrent-net) )\n",
    "is just 2 linear layers which operate on an input and hidden state, with a LogSoftmax layer after the output.\n",
    "\n",
    "![RNN architecture](https://i.imgur.com/Z2xbySO.png)"
   ]
  },
  {
   "cell_type": "code",
   "execution_count": 6,
   "metadata": {
    "collapsed": false,
    "jupyter": {
     "outputs_hidden": false
    }
   },
   "outputs": [],
   "source": [
    "class RNN(nn.Module):\n",
    "    def __init__(self, input_size, hidden_size, output_size):\n",
    "        super(RNN, self).__init__()\n",
    "\n",
    "        self.hidden_size = hidden_size\n",
    "\n",
    "        self.i2h = nn.Linear(input_size + hidden_size, hidden_size)\n",
    "        self.i2o = nn.Linear(input_size + hidden_size, output_size)\n",
    "        self.softmax = nn.LogSoftmax(dim=1)\n",
    "\n",
    "    def forward(self, inp, hidden):\n",
    "        combined = torch.cat((inp, hidden), 1)\n",
    "        hidden = self.i2h(combined)\n",
    "        output = self.i2o(combined)\n",
    "        output = self.softmax(output)\n",
    "        return output, hidden\n",
    "\n",
    "    def initHidden(self):\n",
    "        return torch.zeros(1, self.hidden_size)\n",
    "\n",
    "n_hidden = 128\n",
    "rnn = RNN(n_nucleobases, n_hidden, n_categories)"
   ]
  },
  {
   "cell_type": "markdown",
   "metadata": {},
   "source": [
    "## (Optional) Load Trained Model"
   ]
  },
  {
   "cell_type": "code",
   "execution_count": 32,
   "metadata": {},
   "outputs": [],
   "source": [
    "#rnn = RNN(n_nucleobases, n_hidden, n_categories)\n",
    "#rnn.load_state_dict(torch.load(\"model-v1.pt\"))\n",
    "#rnn.eval()"
   ]
  },
  {
   "cell_type": "markdown",
   "metadata": {},
   "source": [
    "## Training"
   ]
  },
  {
   "cell_type": "markdown",
   "metadata": {},
   "source": [
    "Each loop of training will:\n",
    "\n",
    "-  Create input and target tensors\n",
    "-  Create a zeroed initial hidden state\n",
    "-  Read each letter in and\n",
    "\n",
    "   -  Keep hidden state for next letter\n",
    "\n",
    "-  Compare final output to target\n",
    "-  Back-propagate\n",
    "-  Return the output and loss\n",
    "\n",
    "\n"
   ]
  },
  {
   "cell_type": "code",
   "execution_count": 10,
   "metadata": {
    "collapsed": false,
    "jupyter": {
     "outputs_hidden": false
    }
   },
   "outputs": [],
   "source": [
    "criterion = nn.NLLLoss()\n",
    "optimizer = torch.optim.Adam(rnn.parameters())\n",
    "def train(category_tensor, line_tensor):\n",
    "    hidden = rnn.initHidden()\n",
    "\n",
    "    optimizer.zero_grad()\n",
    "    \n",
    "    for i in range(line_tensor.size()[0]):\n",
    "        output, hidden = rnn(line_tensor[i], hidden)\n",
    "\n",
    "    loss = criterion(output, category_tensor)\n",
    "    loss.backward()\n",
    "    \n",
    "    optimizer.step()\n",
    "    return output, loss.item()"
   ]
  },
  {
   "cell_type": "code",
   "execution_count": 11,
   "metadata": {
    "collapsed": false,
    "jupyter": {
     "outputs_hidden": false
    }
   },
   "outputs": [
    {
     "name": "stdout",
     "output_type": "stream",
     "text": [
      "400 6% (0m 18s) 1.1769 GATCGTCACAGTGTCACAGTCTGAGTCAAGTCGTCAAGTCGATCGATCGATCGATCCTGACAGTGATCCAGTAGTCGATCGATCAGTCCAGTGTCAAGTCCAGTAGTCGATCAGTCAGTCGTCAGATCCTGACTGACTGACAGTGTCAAGTCGTCAAGTCCAGTGTCAAGTCGATCGTCACTGAAGTCGATCCAGTGATCCAGTGTCAAGTCCAGTGTCAGTCAAGTCCAGTGATCGATCCTGACAGTGATCAGTCAGTCCTGAGATCCAGTGATCCAGTAGTCAGTCCAGTGTCAAGTCCAGTAGTCGATCAGTCGATCAGTCCAGTGATCGATCCAGTCAGTGTCACAGTGATCAGTCAGTCGTCAGTCACAGTAGTCGTCACTGAGTCACTGAGATC / class 4 ✓\n",
      "800 13% (0m 36s) 1.3481 GATCGATCCAGTCTAGGTCAGTCAGATCCTAGCTAGCTAGCTAGCTAGCTAGGATCCTGAGTCAGATCCTGACAGTGTCACTGAGTCAGATCGTCAGATCCTGACAGTCTGAGTCAGATCCTGACTGAGTCACTAGCTAGCTAGCTAGCTGAGATCCAGTCTAGCTAGCAGTCTAGCAGTCTAGCTAGGTCACTGACAGTCTGAGTCACAGTCTAGCTAGGTCACTAGGATCCTAGGATCGATCGTCACTGAGATCGTCAGATCCAGTCTAGGTCACAGTCTAGGTCACAGTCTAGCTAGCTGAGTCACTAGCTAGGATCCAGTGATCGATCGATCCTAGGTCACTGACAGTGATCCTGAGTCACTAGCTAGCTAGCTAGGATCCAGTCTAGCTAGGATC / class 4 ✗ (class 3)\n",
      "1200 20% (0m 54s) 1.5965 CAGTGATCCAGTGTCAGTCAGTCACTGACTGACAGTCTGAGATCCTGAGTCAGATCGATCCTGAGTCACAGTGATCCAGTCTGACAGTGTCAGATCCTGACAGTCTAGGATCGATCGATCGATCGATCGATCGATCGTCAGATCCTAGCTAGCTAGGATCCTAGCAGTCTGACTGACTGAGATCCAGTCTAGCTAGCTAGCTAGCAGTCTGAGTCACAGTCTAGCTAGCAGTGATCCAGTCTGAGATCGATCCTGAGATCGATCCTAGGATCCTAGGTCACTAGGATCCTGACTAGGATCGATCGTCACAGTCTGAGTCACTGACTAGGATCCAGTCTAGGTCAGATCCAGTGATCGATCGATCGATCCAGTGTCACTGAGATCGTCAGATCGTCACTGA / class 2 ✗ (class 3)\n",
      "1600 26% (1m 11s) 0.9006 CAGTGTCACAGTGTCACAGTCTAGCAGTGTCACAGTGCATCTAGGTCAGTCAGCATCAGTCTGACAGTCTAGCTAGCTAGGCATCTAGCTAGCTAGCTAGCTAGCTAGCTAGGTCACAGTCTGACTAGCTAGCTAGCTAGGCATCTAGCTAGGCATGCATCTAGCTAGCTAGGTCACTGACTAGCTGACTAGCTGACAGTCTAGGCATCTAGGCATGCATCTAGCTGACTGAGCATCTAGGCATCAGTCTAGGCATCTAGCTGACTAGCTAGCTGACTAGGTCACAGTGTCACTGAGCATGTCACAGTCTAGCTAGGCATCTAGCAGTGTCACTAGGTCACTGAGCATCAGTGTCACAGTGTCACTGACTAGGCATCTGACTAGCTGACTAGGCATCTGA / class 1 ✓\n",
      "2000 33% (1m 29s) 0.7133 TGACTGACACGTTGACGCTATGACAGTCTGACGCTAAGTCACGTAGTCAGTCTGACACGTCAGTGCTACAGTGCTAACGTCAGTCAGTGCTAACGTGCTAGCTATGACTGACAGTCCAGTACGTTGACTGACGCTACAGTCAGTCAGTAGTCGCTACAGTACGTAGTCAGTCGCTAAGTCTGACAGTCAGTCACGTAGTCTGACGCTAGCTACAGTAGTCACGTGCTAAGTCAGTCAGTCGCTAACGTTGACGCTAAGTCAGTCAGTCTGACAGTCTGACGCTAAGTCTGACTGACAGTCCAGTTGACCAGTCAGTCAGTGCTAAGTCACGTAGTCAGTCACGTAGTCGCTACAGTGCTAAGTCAGTCAGTCGCTAGCTAAGTCAGTCACGTCAGTGCTA / class 0 ✓\n",
      "2400 40% (1m 47s) 1.5278 GTCACTGAGTCACAGTGTCACTAGCTAGCTAGCAGTGTCACTAGGCATCTGACTAGGCATCTAGGCATCTGAGTCACTAGCTAGGCATCAGTCAGTGCATCTAGCAGTCTAGCAGTCTAGGCATCAGTGTCACAGTCTGACTGAGTCACAGTCTGACTGACTAGGCATGTCACAGTCAGTCAGTGCATCAGTGCATGCATCAGTCTGACAGTCTAGGTCACAGTGTCACTAGGTCACAGTCAGTCTAGGTCACTAGCTGAGTCACAGTGTCACTAGCAGTCTAGGTCACAGTCTAGCTAGGTCACTGACAGTGTCACTGAGCATCTAGCAGTGTCACTGACTAGGTCACAGTGCATGTCAGCATCTAGGTCAGCATCAGTGCATCAGTGTCACTGACTAG / class 3 ✗ (class 1)\n",
      "2800 46% (2m 5s) 0.8950 CAGTGATCCAGTGATCCAGTGTCACAGTCAGTGTCACAGTAGTCGATCCTGAGTCAGTCAAGTCGTCACTGAGATCCAGTGATCGATCCAGTGTCACAGTGATCCAGTGTCAAGTCGATCAGTCGATCCTGACAGTGTCAAGTCCAGTGTCACAGTCAGTGTCAGATCGTCACAGTAGTCGTCAGTCAAGTCGATCGATCAGTCCAGTGATCGATCCAGTGATCCTGACAGTGATCCAGTCTGAGATCCAGTGATCCAGTGTCAAGTCCAGTGTCACAGTCTGACAGTCTGAGTCACAGTAGTCCAGTGTCACAGTGATCCTGACAGTCTGAGTCAAGTCCAGTAGTCAGTCAGTCCAGTCTGAGATCAGTCGATCGATCCTGAGTCAGATCGATCCAGT / class 4 ✓\n",
      "3200 53% (2m 22s) 0.4252 GTCACTGACTGACAGTGCATCAGTCTAGCTAGGTCACTAGGCATGCATCTAGGCATCAGTCTGAGCATCAGTCTGACAGTCTAGCTAGCTGACTAGCTAGGTCACTGACTAGGCATCAGTCTGAGCATCTAGGTCACTAGGCATCTAGCAGTGCATCAGTGTCAGCATCAGTCTAGCTGAGCATCAGTGTCAGCATCAGTCAGTCTAGGCATCTAGGCATCTAGGCATCAGTGCATCAGTGTCACTAGCTAGCAGTGCATCTAGGCATGTCACTAGGTCACTAGCAGTGTCACTGAGTCAGCATGTCACAGTCTGACTGACTAGGTCACTAGGTCACTGACAGTGTCACTAGCTGAGTCACTAGGCATGTCACTGACTGACTGAGTCACAGTGTCACTAG / class 1 ✓\n",
      "3600 60% (2m 40s) 1.3491 CAGTCAGTGCTAAGTCTGACAGTCGCTAACGTTGACAGTCAGTCTGACGCTACAGTCAGTTGACACGTCAGTACGTCAGTACGTCAGTACGTCAGTAGTCACGTCAGTACGTCAGTACGTACGTGCTACAGTACGTCAGTCAGTGCTAAGTCAGTCAGTCACGTACGTCAGTCAGTACGTGCTAGCTAAGTCACGTGCTAAGTCAGTCAGTCCAGTCAGTACGTGCTAGCTATGACTGACACGTAGTCAGTCAGTCAGTCGCTAACGTGCTACAGTACGTAGTCAGTCCAGTACGTAGTCGCTAACGTGCTAGCTATGACAGTCACGTGCTAAGTCACGTGCTAACGTGCTAGCTATGACGCTACAGTCAGTGCTATGACGCTACAGTACGTCAGTTGAC / class 2 ✗ (class 0)\n",
      "4000 66% (2m 58s) 1.9786 GCTAGCTATGACACGTAGTCGCTAAGTCTGACGCTATGACGCTAAGTCTGACACGTGCTAACGTACGTAGTCCAGTCAGTGCTATGACAGTCAGTCAGTCGCTAGCTAGCTAAGTCACGTAGTCACGTACGTGCTACAGTCAGTACGTAGTCACGTCAGTGCTATGACTGACAGTCAGTCTGACACGTACGTAGTCAGTCGCTAAGTCCAGTACGTGCTAAGTCTGACGCTATGACCAGTCAGTACGTGCTAAGTCAGTCCAGTCAGTAGTCTGACGCTAGCTAACGTCAGTCAGTACGTCAGTAGTCAGTCTGACAGTCACGTAGTCAGTCAGTCAGTCAGTCACGTAGTCGCTACAGTGCTACAGTCAGTAGTCACGTCAGTTGACTGACCAGTCAGT / class 2 ✗ (class 0)\n",
      "4400 73% (3m 16s) 0.3933 GATCCTGAGATCGATCCTGAGATCCAGTGTCAGTCACTGACAGTCTGAGATCGTCACAGTGTCACTGACAGTGTCAGTCACTGAGATCAGTCCAGTAGTCGTCAAGTCGATCGATCCAGTGATCAGTCGATCGTCACAGTAGTCCAGTCTGAGATCGATCGATCGATCCAGTGTCAGTCACAGTAGTCGATCCTGAGATCAGTCCAGTAGTCCAGTCAGTCTGACTGAGTCACAGTCTGACAGTGATCCTGAGATCAGTCCAGTAGTCAGTCAGTCGTCACAGTGTCAGATCAGTCAGTCGATCCAGTGTCACAGTAGTCGATCCAGTCTGACAGTAGTCAGTCAGTCAGTCGATCGATCAGTCGTCAGTCACAGTAGTCGTCACAGTAGTCAGTCGTCA / class 4 ✓\n",
      "4800 80% (3m 34s) 0.1173 CTGAGTCACAGTGCATCAGTCTGACTGACTAGCTAGGCATCTAGCTAGGTCACAGTGCATGCATCTAGCTGACTGACTAGGTCACAGTCTGACAGTGCATGCATCAGTGTCACTAGGCATCAGTCTAGGTCACTAGCAGTCTAGGCATCTAGCTGACTAGGTCACTAGGTCACAGTGTCACTGAGCATCTAGCTAGCTAGGTCACAGTGCATCTAGCTAGCAGTCTAGGTCACTAGGCATCAGTGTCACTGAGTCACTGACTAGCTGACAGTGCATCTGACAGTCTGACAGTCAGTCTAGGCATCTAGCTGACTAGCTGACAGTCTAGGCATCTAGCTGACTAGCTGACTGACTAGCAGTCTGAGTCACTAGCAGTGTCACTGACTGAGTCACTAGGCAT / class 1 ✓\n",
      "5200 86% (3m 52s) 0.2931 CTGACTAGGCATCAGTGTCACTGACTAGGCATCAGTGTCACTAGGCATCTAGCTAGCTGACTGACTAGCTGACTGACTGACTAGCTAGCTGACAGTGCATCAGTGCATCTGAGCATCTAGCTAGGTCACTGACTAGCTAGCAGTGCATCAGTCTGACTAGGTCACAGTGTCACAGTGTCACAGTGCATCAGTGTCACAGTCTAGCTAGGCATCTAGGTCACAGTGTCAGCATCAGTGTCACTAGGTCACTAGCTAGCTGACTAGGTCACAGTGCATCAGTGCATGTCACAGTCAGTGTCACAGTGTCACTGAGTCACAGTGCATCTAGCTGACAGTCTAGGCATGCATCTAGCTAGCTAGCAGTGTCACTAGCTGACAGTGTCACAGTGCATCTAGGTCA / class 1 ✓\n",
      "5600 93% (4m 10s) 1.2859 TGACCTGATGACCTGATGACTGACGCTACTAGCAGTCTGACAGTCTGAGCTACAGTTGACCTGACAGTCTAGCAGTCAGTCTGAGCTACTGATGACCAGTTGACCTGACAGTCTGATGACCTGACTGACTGACAGTCTGACTAGCTGAGCTACTAGCTAGCTAGCTGACAGTCAGTGCTACAGTCTGATGACGCTACTGAGCTACTAGCTAGCAGTTGACCTGACTGAGCTACTAGCTAGGCTACTGAGCTACTAGCAGTGCTATGACCTGACTGACTAGGCTACTAGCTGACAGTCAGTCAGTCAGTCAGTTGACCTGACAGTTGACTGACCTGACAGTCAGTCTGATGACCTGACAGTCAGTCAGTTGACCTGACTAGCAGTTGACGCTACTGACAGT / class 4 ✗ (class 2)\n",
      "6000 100% (4m 28s) 1.4484 CTGATGACCAGTGCTAGCTACAGTCTGATGACCAGTCTAGGCTACAGTCTAGCTAGCTAGGCTACAGTCTGACTGACTAGCAGTCAGTCTGACAGTCTGAGCTACTGATGACCTGACAGTCAGTCTAGCAGTCTAGCAGTTGACCAGTTGACCTGACTGAGCTACTGACTGACAGTGCTACAGTGCTACAGTCAGTCTGATGACCTGATGACGCTACTAGCAGTCTGAGCTATGACCTGATGACCAGTTGACCAGTCTGACAGTCTAGGCTACTGACTGACTGACTGAGCTATGACCAGTCTGACTGACTGACAGTGCTATGACCTGATGACTGACCTGACAGTCAGTTGACCTGAGCTATGACTGACCAGTTGACCTGAGCTACTAGTGACTGACCAGT / class 0 ✗ (class 2)\n"
     ]
    }
   ],
   "source": [
    "print_every = 400\n",
    "plot_every = 200\n",
    "\n",
    "# Keep track of losses for plotting\n",
    "current_loss = 0\n",
    "all_losses = []\n",
    "\n",
    "def timeSince(since):\n",
    "    now = time.time()\n",
    "    s = now - since\n",
    "    m = math.floor(s / 60)\n",
    "    s -= m * 60\n",
    "    return '%dm %ds' % (m, s)\n",
    "\n",
    "start = time.time()\n",
    "\n",
    "epochs = 15\n",
    "n_iters = epochs * len(data_ds)\n",
    "i = 0\n",
    "for e in range(epochs):\n",
    "    for category, gen_seq, category_tensor, gen_seq_tensor in data_dl:\n",
    "        i += 1\n",
    "        category, gen_seq, category_tensor, gen_seq_tensor = category[0], gen_seq[0], category_tensor[0], gen_seq_tensor[0]\n",
    "        output, loss = train(category_tensor, gen_seq_tensor)\n",
    "        current_loss += loss\n",
    "\n",
    "        # Print iter number, loss, name and guess\n",
    "        if i % print_every == 0:\n",
    "            guess, guess_i = categoryFromOutput(output)\n",
    "            correct = '✓' if guess == category else '✗ (%s)' % category\n",
    "            print('%d %d%% (%s) %.4f %s / %s %s' % (i, i / n_iters * 100, timeSince(start), loss, gen_seq, guess, correct))\n",
    "\n",
    "        # Add current loss avg to list of losses\n",
    "        if i % plot_every == 0:\n",
    "            all_losses.append(current_loss / plot_every)\n",
    "            current_loss = 0"
   ]
  },
  {
   "cell_type": "markdown",
   "metadata": {},
   "source": [
    "## (Optional) Save Model"
   ]
  },
  {
   "cell_type": "code",
   "execution_count": 27,
   "metadata": {},
   "outputs": [],
   "source": [
    "# torch.save(rnn.state_dict(), \"model-v2.pt\")"
   ]
  },
  {
   "cell_type": "markdown",
   "metadata": {},
   "source": [
    "Plotting the Results\n",
    "--------------------\n",
    "\n",
    "Plotting the historical loss from ``all_losses`` shows the network\n",
    "learning:\n",
    "\n",
    "\n"
   ]
  },
  {
   "cell_type": "code",
   "execution_count": 13,
   "metadata": {
    "collapsed": false,
    "jupyter": {
     "outputs_hidden": false
    }
   },
   "outputs": [
    {
     "data": {
      "text/plain": [
       "[<matplotlib.lines.Line2D at 0x7f3428590550>]"
      ]
     },
     "execution_count": 13,
     "metadata": {},
     "output_type": "execute_result"
    },
    {
     "data": {
      "image/png": "[encoded data removed]",
      "text/plain": [
       "<Figure size 432x288 with 1 Axes>"
      ]
     },
     "metadata": {
      "needs_background": "light"
     },
     "output_type": "display_data"
    }
   ],
   "source": [
    "plt.figure()\n",
    "plt.plot(all_losses)"
   ]
  },
  {
   "cell_type": "markdown",
   "metadata": {},
   "source": [
    "## Evaluation\n",
    "\n",
    "To see how well the network performs on different categories, we will\n",
    "create a confusion matrix, indicating for every actual category (rows)\n",
    "which category the network guesses (columns)."
   ]
  },
  {
   "cell_type": "code",
   "execution_count": 34,
   "metadata": {
    "collapsed": false,
    "jupyter": {
     "outputs_hidden": false
    }
   },
   "outputs": [
    {
     "name": "stderr",
     "output_type": "stream",
     "text": [
      "/home/center/.pyenv/versions/3.7.9/envs/dl-pt/lib/python3.7/site-packages/ipykernel_launcher.py:40: UserWarning: FixedFormatter should only be used together with FixedLocator\n",
      "/home/center/.pyenv/versions/3.7.9/envs/dl-pt/lib/python3.7/site-packages/ipykernel_launcher.py:41: UserWarning: FixedFormatter should only be used together with FixedLocator\n"
     ]
    },
    {
     "data": {
      "image/png": "[encoded data removed]",
      "text/plain": [
       "<Figure size 432x288 with 2 Axes>"
      ]
     },
     "metadata": {
      "needs_background": "light"
     },
     "output_type": "display_data"
    }
   ],
   "source": [
    "# Load validation dataset\n",
    "val_ds = GenSeqDataset(val_x, val_y)\n",
    "val_dl = torch.utils.data.DataLoader(val_ds, batch_size=1,\n",
    "                        shuffle=True, num_workers=0)\n",
    "\n",
    "# Keep track of correct guesses in a confusion matrix\n",
    "confusion = torch.zeros(n_categories, n_categories)\n",
    "n_confusion = int(200 / len(val_ds))\n",
    "\n",
    "# Just return an output given a line\n",
    "def evaluate(line_tensor):\n",
    "    \"\"\"Same as train() without the backprop.\"\"\"\n",
    "    hidden = rnn.initHidden()\n",
    "\n",
    "    for i in range(line_tensor.size()[0]):\n",
    "        output, hidden = rnn(line_tensor[i], hidden)\n",
    "\n",
    "    return output\n",
    "\n",
    "# Go through a bunch of examples and record which are correctly guessed\n",
    "for i in range(n_confusion):\n",
    "    for category, gen_seq, category_tensor, gen_seq_tensor in val_dl:\n",
    "        category, gen_seq, category_tensor, gen_seq_tensor = category[0], gen_seq[0], category_tensor[0], gen_seq_tensor[0]\n",
    "        output = evaluate(gen_seq_tensor)\n",
    "        guess, guess_i = categoryFromOutput(output)\n",
    "        category_i = all_categories.index(category)\n",
    "        confusion[category_i][guess_i] += 1\n",
    "\n",
    "# Normalize by dividing every row by its sum\n",
    "for i in range(n_categories):\n",
    "    confusion[i] = confusion[i] / confusion[i].sum()\n",
    "\n",
    "# Set up plot\n",
    "fig = plt.figure()\n",
    "ax = fig.add_subplot(111)\n",
    "cax = ax.matshow(confusion.numpy())\n",
    "fig.colorbar(cax)\n",
    "\n",
    "# Set up axes\n",
    "ax.set_xticklabels([''] + all_categories, rotation=90)\n",
    "ax.set_yticklabels([''] + all_categories)\n",
    "\n",
    "# Force label at every tick\n",
    "ax.xaxis.set_major_locator(ticker.MultipleLocator(1))\n",
    "ax.yaxis.set_major_locator(ticker.MultipleLocator(1))\n",
    "\n",
    "# sphinx_gallery_thumbnail_number = 2\n",
    "plt.show()"
   ]
  },
  {
   "cell_type": "markdown",
   "metadata": {},
   "source": [
    "## Prediction"
   ]
  },
  {
   "cell_type": "code",
   "execution_count": 33,
   "metadata": {},
   "outputs": [
    {
     "data": {
      "text/plain": [
       "RNN(\n",
       "  (i2h): Linear(in_features=132, out_features=128, bias=True)\n",
       "  (i2o): Linear(in_features=132, out_features=5, bias=True)\n",
       "  (softmax): LogSoftmax(dim=1)\n",
       ")"
      ]
     },
     "execution_count": 33,
     "metadata": {},
     "output_type": "execute_result"
    }
   ],
   "source": [
    "rnn = RNN(n_nucleobases, n_hidden, n_categories)\n",
    "rnn.load_state_dict(torch.load(\"model-v1.pt\"))\n",
    "rnn.eval()"
   ]
  },
  {
   "cell_type": "code",
   "execution_count": 45,
   "metadata": {
    "collapsed": false,
    "jupyter": {
     "outputs_hidden": false
    }
   },
   "outputs": [],
   "source": [
    "def predict(input_line, n_predictions=3):\n",
    "    with torch.no_grad():\n",
    "        output = evaluate(genSeqToTensor(input_line))\n",
    "        return categoryFromOutput(output)[1]\n",
    "\n",
    "prediction = np.fromiter((predict(xi) for xi in test_x), int)\n",
    "validation = np.fromiter((predict(xi) for xi in val_x), int)"
   ]
  },
  {
   "cell_type": "code",
   "execution_count": 46,
   "metadata": {},
   "outputs": [
    {
     "data": {
      "text/plain": [
       "0.68"
      ]
     },
     "execution_count": 46,
     "metadata": {},
     "output_type": "execute_result"
    }
   ],
   "source": [
    "(validation == val_y).sum() / len(val_y)"
   ]
  },
  {
   "cell_type": "markdown",
   "metadata": {},
   "source": [
    "## Submission"
   ]
  },
  {
   "cell_type": "code",
   "execution_count": 44,
   "metadata": {},
   "outputs": [],
   "source": [
    "# PREDICT prediction FROM test_x\n",
    "\n",
    "\n",
    "# MAKE SURE THAT YOU HAVE THE RIGHT FORMAT\n",
    "assert prediction.ndim == 1\n",
    "assert prediction.shape[0] == 250\n",
    "\n",
    "# AND SAVE EXACTLY AS SHOWN BELOW\n",
    "np.save('prediction.npy', prediction.astype(int))\n",
    "\n",
    "# MAKE SURE THAT THE FILE HAS THE CORRECT FORMAT\n",
    "def validate_prediction_format():\n",
    "    loaded = np.load('prediction.npy')\n",
    "    assert loaded.shape == (250, )\n",
    "    assert loaded.dtype == int\n",
    "    assert (loaded <= 4).all()\n",
    "    assert (loaded >= 0).all()\n",
    "validate_prediction_format()"
   ]
  },
  {
   "cell_type": "code",
   "execution_count": null,
   "metadata": {},
   "outputs": [],
   "source": []
  }
 ],
 "metadata": {
  "kernelspec": {
   "display_name": "Python 3",
   "language": "python",
   "name": "python3"
  },
  "language_info": {
   "codemirror_mode": {
    "name": "ipython",
    "version": 3
   },
   "file_extension": ".py",
   "mimetype": "text/x-python",
   "name": "python",
   "nbconvert_exporter": "python",
   "pygments_lexer": "ipython3",
   "version": "3.7.9"
  }
 },
 "nbformat": 4,
 "nbformat_minor": 4
}
