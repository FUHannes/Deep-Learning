{
 "cells": [
  {
   "cell_type": "code",
   "execution_count": 1,
   "id": "75c951a1-2ad3-4bd6-a443-7f1826b372e1",
   "metadata": {},
   "outputs": [
    {
     "name": "stdout",
     "output_type": "stream",
     "text": [
      "(20000, 1, 28, 28) float32\n",
      "(20000,) int64\n",
      "(2000, 1, 28, 28) float32\n"
     ]
    },
    {
     "data": {
      "image/png": "[encoded data removed]",
      "text/plain": [
       "<Figure size 432x288 with 1 Axes>"
      ]
     },
     "metadata": {
      "needs_background": "light"
     },
     "output_type": "display_data"
    }
   ],
   "source": [
    "import numpy as np\n",
    "import matplotlib.pyplot as plt\n",
    "\n",
    "with np.load('prediction-challenge-01-data.npz') as fh:\n",
    "    data_x = fh['data_x']\n",
    "    data_y = fh['data_y']\n",
    "    test_x = fh['test_x']\n",
    "\n",
    "# TRAINING DATA: INPUT (x) AND OUTPUT (y)\n",
    "# 1. INDEX: IMAGE SERIAL NUMBER\n",
    "# 2. INDEX: COLOR CHANNEL\n",
    "# 3/4. INDEX: PIXEL VALUE\n",
    "print(data_x.shape, data_x.dtype)\n",
    "print(data_y.shape, data_y.dtype)\n",
    "\n",
    "# TEST DATA: INPUT (x) ONLY\n",
    "print(test_x.shape, test_x.dtype)\n",
    "\n",
    "plt.imshow(data_x[0, 0])\n",
    "plt.title(data_y[0])\n",
    "plt.show()"
   ]
  },
  {
   "cell_type": "markdown",
   "id": "28ab10c8-5bcf-4c05-b2aa-d02a71a6c164",
   "metadata": {},
   "source": [
    "# Prediction"
   ]
  },
  {
   "cell_type": "code",
   "execution_count": 2,
   "id": "ed2455e4-d845-4ee7-a2a5-c2127112af04",
   "metadata": {},
   "outputs": [],
   "source": [
    "import torch\n",
    "import torch.nn as nn\n",
    "import torch.nn.functional as F\n",
    "import torch.optim as optim\n",
    "from sklearn.model_selection import train_test_split\n",
    "from scipy.stats import describe\n",
    "from torch.utils.data import TensorDataset, DataLoader, Dataset\n",
    "from torchvision import transforms\n",
    "from sklearn.model_selection import StratifiedShuffleSplit"
   ]
  },
  {
   "cell_type": "markdown",
   "id": "693ae3e8-ad66-4550-a1d6-7fd64ae93db9",
   "metadata": {},
   "source": [
    "## Hyperparameters"
   ]
  },
  {
   "cell_type": "code",
   "execution_count": 3,
   "id": "002b1c97-5144-4d83-a963-4ceb38f55304",
   "metadata": {},
   "outputs": [],
   "source": [
    "TEST_SIZE = 0.1\n",
    "VAL_SIZE = 0.2\n",
    "CROSS_VAL_K = 5\n",
    "BATCH_SIZE = 50\n",
    "EPOCHS = 5"
   ]
  },
  {
   "cell_type": "markdown",
   "id": "feebed70-776d-42ce-af6e-3fec1fee918a",
   "metadata": {},
   "source": [
    "## Train - Validation - Test - Split\n",
    "\n",
    "90% (80% Train + 20% Validation) + 10% Test"
   ]
  },
  {
   "cell_type": "code",
   "execution_count": 4,
   "id": "47aa0f93-ac11-4633-8563-ed8c049c7e6d",
   "metadata": {},
   "outputs": [],
   "source": [
    "X, X_test, y, y_test = train_test_split(data_x,data_y, test_size=TEST_SIZE,shuffle=True,random_state=22)"
   ]
  },
  {
   "cell_type": "code",
   "execution_count": 5,
   "id": "54aa08ab-30be-4424-9a19-9c1af86a34b2",
   "metadata": {},
   "outputs": [],
   "source": [
    "class MnistDataset(Dataset):\n",
    "    def __init__(self, images, labels, transform=None, target_transform=None):\n",
    "        self.labels = labels\n",
    "        self.images = images\n",
    "        self.transform = transform\n",
    "        self.target_transform = target_transform\n",
    "\n",
    "    def __len__(self):\n",
    "        return len(self.labels)\n",
    "\n",
    "    def __getitem__(self, idx):\n",
    "        image = self.images[idx]\n",
    "        label = torch.tensor(self.labels[idx])\n",
    "        if self.transform:\n",
    "            image = self.transform(image)\n",
    "        if self.target_transform:\n",
    "            label = self.target_transform(label)\n",
    "        return (image,label)"
   ]
  },
  {
   "cell_type": "code",
   "execution_count": 6,
   "id": "046a0a0a-45e9-44ba-ba8c-86e2d8fff20d",
   "metadata": {},
   "outputs": [],
   "source": [
    "dataset = MnistDataset(np.transpose(X,(0,2,3,1)),y,transform=transforms.Compose([\n",
    "          transforms.ToTensor()\n",
    "        , transforms.Normalize(X.mean(), X.std() )\n",
    "    ]))"
   ]
  },
  {
   "cell_type": "markdown",
   "id": "364b32d3-89d0-456d-9389-302efbe9661a",
   "metadata": {},
   "source": [
    "Neural network adapted from [this](https://pytorch.org/tutorials/beginner/blitz/neural_networks_tutorial.html) pytorch tutorial."
   ]
  },
  {
   "cell_type": "code",
   "execution_count": 7,
   "id": "8b95b8b5-f855-451a-84c0-d73411176886",
   "metadata": {},
   "outputs": [],
   "source": [
    "class Net(nn.Module):\n",
    "\n",
    "    def __init__(self):\n",
    "        super(Net, self).__init__()\n",
    "        # 1 input image channel, 6 output channels, 5x5 square convolution\n",
    "        # kernel\n",
    "        self.conv1 = nn.Conv2d(1, 6, 5)\n",
    "        self.conv2 = nn.Conv2d(6, 16, 5)\n",
    "        # an affine operation: y = Wx + b\n",
    "        self.fc1 = nn.Linear(16 * 4 * 4, 120)  # 4*4 from image dimension\n",
    "        self.fc2 = nn.Linear(120, 84)\n",
    "        self.fc3 = nn.Linear(84, 10)\n",
    "\n",
    "    def forward(self, x):\n",
    "        # Max pooling over a (2, 2) window\n",
    "        x = F.max_pool2d(F.relu(self.conv1(x)), (2, 2))\n",
    "        # If the size is a square, you can specify with a single number\n",
    "        x = F.max_pool2d(F.relu(self.conv2(x)), 2)\n",
    "        x = x.view(-1, self.num_flat_features(x))\n",
    "        x = F.relu(self.fc1(x))\n",
    "        x = F.relu(self.fc2(x))\n",
    "        x = self.fc3(x)\n",
    "        return x\n",
    "\n",
    "    def num_flat_features(self, x):\n",
    "        size = x.size()[1:]  # all dimensions except the batch dimension\n",
    "        num_features = 1\n",
    "        for s in size:\n",
    "            num_features *= s\n",
    "        return num_features\n",
    "\n",
    "\n",
    "net = Net()"
   ]
  },
  {
   "cell_type": "code",
   "execution_count": 8,
   "id": "438f95b1-5e01-4155-afc7-3c87709eba44",
   "metadata": {},
   "outputs": [],
   "source": [
    "criterion = nn.CrossEntropyLoss()\n",
    "optimizer = optim.Adam(net.parameters())"
   ]
  },
  {
   "cell_type": "code",
   "execution_count": 9,
   "id": "70e8d899-b80c-41b8-a33c-7601833a650d",
   "metadata": {
    "scrolled": true,
    "tags": []
   },
   "outputs": [
    {
     "name": "stdout",
     "output_type": "stream",
     "text": [
      "[1,   100] loss: 0.049\n",
      "[1,   200] loss: 0.016\n",
      "[2,   100] loss: 0.009\n",
      "[2,   200] loss: 0.008\n",
      "[3,   100] loss: 0.005\n",
      "[3,   200] loss: 0.005\n",
      "[4,   100] loss: 0.003\n",
      "[4,   200] loss: 0.004\n",
      "[5,   100] loss: 0.003\n",
      "[5,   200] loss: 0.003\n",
      "[1,   100] loss: 0.003\n",
      "[1,   200] loss: 0.004\n",
      "[2,   100] loss: 0.002\n",
      "[2,   200] loss: 0.002\n",
      "[3,   100] loss: 0.002\n",
      "[3,   200] loss: 0.002\n",
      "[4,   100] loss: 0.001\n",
      "[4,   200] loss: 0.002\n",
      "[5,   100] loss: 0.001\n",
      "[5,   200] loss: 0.001\n",
      "[1,   100] loss: 0.002\n",
      "[1,   200] loss: 0.002\n",
      "[2,   100] loss: 0.001\n",
      "[2,   200] loss: 0.001\n",
      "[3,   100] loss: 0.001\n",
      "[3,   200] loss: 0.001\n",
      "[4,   100] loss: 0.001\n",
      "[4,   200] loss: 0.001\n",
      "[5,   100] loss: 0.000\n",
      "[5,   200] loss: 0.000\n",
      "[1,   100] loss: 0.001\n",
      "[1,   200] loss: 0.001\n",
      "[2,   100] loss: 0.001\n",
      "[2,   200] loss: 0.001\n",
      "[3,   100] loss: 0.000\n",
      "[3,   200] loss: 0.001\n",
      "[4,   100] loss: 0.000\n",
      "[4,   200] loss: 0.001\n",
      "[5,   100] loss: 0.000\n",
      "[5,   200] loss: 0.000\n",
      "[1,   100] loss: 0.001\n",
      "[1,   200] loss: 0.001\n",
      "[2,   100] loss: 0.000\n",
      "[2,   200] loss: 0.001\n",
      "[3,   100] loss: 0.001\n",
      "[3,   200] loss: 0.001\n",
      "[4,   100] loss: 0.001\n",
      "[4,   200] loss: 0.000\n",
      "[5,   100] loss: 0.000\n",
      "[5,   200] loss: 0.000\n"
     ]
    }
   ],
   "source": [
    "\n",
    "\n",
    "val_method = StratifiedShuffleSplit(n_splits=CROSS_VAL_K, test_size=VAL_SIZE, random_state=91)\n",
    "\n",
    "for train_indices, val_indices in val_method.split(X,y):\n",
    "    train_set = torch.utils.data.dataset.Subset(dataset,train_indices)\n",
    "    val_set = torch.utils.data.dataset.Subset(dataset,val_indices)\n",
    "    \n",
    "    train_loader = torch.utils.data.DataLoader(train_set, batch_size=BATCH_SIZE,\n",
    "                                          shuffle=True, num_workers=4)\n",
    "    val_loader = torch.utils.data.DataLoader(val_set, batch_size=BATCH_SIZE,\n",
    "                                          shuffle=True, num_workers=4)\n",
    "    for epoch in range(EPOCHS):  # loop over the dataset multiple times\n",
    "\n",
    "        running_loss = 0.0\n",
    "        for i, data in enumerate(train_loader, 0):\n",
    "            # get the inputs; data is a list of [inputs, labels]\n",
    "            inputs, labels = data\n",
    "            # zero the parameter gradients\n",
    "            optimizer.zero_grad()\n",
    "\n",
    "            # forward + backward + optimize\n",
    "            outputs = net(inputs)\n",
    "            loss = criterion(outputs, labels)\n",
    "            loss.backward()\n",
    "            optimizer.step()\n",
    "\n",
    "            # print statistics\n",
    "            running_loss += loss.item()\n",
    "            if i % 100 == 99:    # print every 100 mini-batches\n",
    "                print('[%d, %5d] loss: %.3f' %\n",
    "                      (epoch + 1, i + 1, running_loss / 2000))\n",
    "                running_loss = 0.0"
   ]
  },
  {
   "cell_type": "markdown",
   "id": "1269694e-d140-4e3c-8d70-9d1f6e0d5480",
   "metadata": {},
   "source": [
    "## Estimate network performance with test set"
   ]
  },
  {
   "cell_type": "code",
   "execution_count": 10,
   "id": "10311e3d-37e3-4188-a2cd-ed0a4a07693f",
   "metadata": {},
   "outputs": [],
   "source": [
    "X_test_standardized = (X_test-X.mean())/X.std()\n",
    "outputs=net(torch.from_numpy(X_test_standardized) )\n",
    "_, predicted = torch.max(outputs, 1)"
   ]
  },
  {
   "cell_type": "code",
   "execution_count": 11,
   "id": "a4da8a26-9eb9-4f82-a8b7-084f7b9844a9",
   "metadata": {},
   "outputs": [
    {
     "name": "stdout",
     "output_type": "stream",
     "text": [
      "Performance on test set: 97.95% correct classified\n"
     ]
    }
   ],
   "source": [
    "print(f\"Performance on test set: {(np.equal(predicted,y_test).sum()/y_test.shape[0]).item()*100:.2f}% correct classified\")"
   ]
  },
  {
   "cell_type": "markdown",
   "id": "2e23e4eb-e2ef-4e14-93a1-f7106f980424",
   "metadata": {},
   "source": [
    "## Final prediction"
   ]
  },
  {
   "cell_type": "code",
   "execution_count": 12,
   "id": "fa3013a5-8235-4375-96b4-eb560d3c2bb6",
   "metadata": {},
   "outputs": [],
   "source": [
    "test_x_standardized = (test_x-X.mean())/X.std()\n",
    "\n",
    "outputs=net(torch.from_numpy(test_x_standardized) )\n",
    "_, prediction = torch.max(outputs, 1)\n",
    "\n",
    "# MAKE SURE THAT YOU HAVE THE RIGHT FORMAT\n",
    "assert prediction.ndim == 1\n",
    "assert prediction.shape[0] == 2000\n",
    "\n",
    "# AND SAVE EXACTLY AS SHOWN BELOW\n",
    "np.save('prediction.npy', prediction)"
   ]
  },
  {
   "cell_type": "code",
   "execution_count": 14,
   "id": "975204f5-eda0-41aa-9a0c-351c4b02c1b0",
   "metadata": {
    "scrolled": true,
    "tags": []
   },
   "outputs": [
    {
     "data": {
      "image/png": "[encoded data removed]",
      "text/plain": [
       "<Figure size 432x288 with 1 Axes>"
      ]
     },
     "metadata": {
      "needs_background": "light"
     },
     "output_type": "display_data"
    },
    {
     "data": {
      "image/png": "[encoded data removed]",
      "text/plain": [
       "<Figure size 432x288 with 1 Axes>"
      ]
     },
     "metadata": {
      "needs_background": "light"
     },
     "output_type": "display_data"
    },
    {
     "data": {
      "image/png": "[encoded data removed]",
      "text/plain": [
       "<Figure size 432x288 with 1 Axes>"
      ]
     },
     "metadata": {
      "needs_background": "light"
     },
     "output_type": "display_data"
    },
    {
     "data": {
      "image/png": "[encoded data removed]",
      "text/plain": [
       "<Figure size 432x288 with 1 Axes>"
      ]
     },
     "metadata": {
      "needs_background": "light"
     },
     "output_type": "display_data"
    },
    {
     "data": {
      "image/png": "[encoded data removed]",
      "text/plain": [
       "<Figure size 432x288 with 1 Axes>"
      ]
     },
     "metadata": {
      "needs_background": "light"
     },
     "output_type": "display_data"
    },
    {
     "data": {
      "image/png": "[encoded data removed]",
      "text/plain": [
       "<Figure size 432x288 with 1 Axes>"
      ]
     },
     "metadata": {
      "needs_background": "light"
     },
     "output_type": "display_data"
    },
    {
     "data": {
      "image/png": "[encoded data removed]",
      "text/plain": [
       "<Figure size 432x288 with 1 Axes>"
      ]
     },
     "metadata": {
      "needs_background": "light"
     },
     "output_type": "display_data"
    },
    {
     "data": {
      "image/png": "[encoded data removed]",
      "text/plain": [
       "<Figure size 432x288 with 1 Axes>"
      ]
     },
     "metadata": {
      "needs_background": "light"
     },
     "output_type": "display_data"
    },
    {
     "data": {
      "image/png": "[encoded data removed]",
      "text/plain": [
       "<Figure size 432x288 with 1 Axes>"
      ]
     },
     "metadata": {
      "needs_background": "light"
     },
     "output_type": "display_data"
    },
    {
     "data": {
      "image/png": "[encoded data removed]",
      "text/plain": [
       "<Figure size 432x288 with 1 Axes>"
      ]
     },
     "metadata": {
      "needs_background": "light"
     },
     "output_type": "display_data"
    }
   ],
   "source": [
    "for img, p in list(zip(test_x, prediction))[:10]:\n",
    "    plt.imshow(img[0])\n",
    "    plt.title(p)\n",
    "    plt.show()"
   ]
  },
  {
   "cell_type": "code",
   "execution_count": null,
   "id": "a47abb60-3403-431b-a7cb-e6a762921173",
   "metadata": {},
   "outputs": [],
   "source": []
  }
 ],
 "metadata": {
  "kernelspec": {
   "display_name": "dl-course",
   "language": "python",
   "name": "dl-course"
  },
  "language_info": {
   "codemirror_mode": {
    "name": "ipython",
    "version": 3
   },
   "file_extension": ".py",
   "mimetype": "text/x-python",
   "name": "python",
   "nbconvert_exporter": "python",
   "pygments_lexer": "ipython3",
   "version": "3.7.9"
  }
 },
 "nbformat": 4,
 "nbformat_minor": 5
}
