{
 "cells": [
  {
   "cell_type": "markdown",
   "id": "d3652cfa",
   "metadata": {},
   "source": [
    "## III c"
   ]
  },
  {
   "cell_type": "code",
   "execution_count": 54,
   "id": "eefb88da",
   "metadata": {},
   "outputs": [],
   "source": [
    "class Phi(nn.Module):\n",
    "    \"\"\" Trivial implementation of Phi\"\"\"\n",
    "    def forward(self,inputs):\n",
    "        return inputs"
   ]
  },
  {
   "cell_type": "code",
   "execution_count": 47,
   "id": "f9473bac",
   "metadata": {},
   "outputs": [],
   "source": [
    "import torch \n",
    "import torch.nn as nn\n",
    "\n",
    "class F(nn.Module):\n",
    "    def __init__(self,phi_in:int,phi:nn.Module): \n",
    "        \"\"\"Creates a new instance of F.\n",
    "        Parameters\n",
    "        - - - - - -\n",
    "        phi_in : int\n",
    "        The input dimension of phi, i.e., the expected\n",
    "        shape is [batch_size, phi_in]\n",
    "        phi : nn.Module\n",
    "        PyTorch module which implements a neural network block \"Phi\"\n",
    "        \"\"\"\n",
    "        super().__init__()\n",
    "        self.phi = phi\n",
    "        self.phi_in = phi_in\n",
    "        self.xb_size = phi_in[1]\n",
    "        \n",
    "    def forward(self, inputs):\n",
    "        xa,xb=inputs.split([inputs.shape[1]-self.xb_size,self.xb_size],dim=1)\n",
    "        ya = xa + self.phi(xb)\n",
    "        yb = xb\n",
    "        return torch.cat((ya,yb),axis=1)\n",
    "\n",
    "    def inverse(self, inputs):\n",
    "        ya,yb=inputs.split([inputs.shape[1]-self.xb_size,self.xb_size],dim=1)\n",
    "        xb=yb\n",
    "        xa=ya-self.phi(yb)\n",
    "        return torch.cat((xa,xb),axis=1)\n"
   ]
  },
  {
   "cell_type": "code",
   "execution_count": 55,
   "id": "f94da997",
   "metadata": {},
   "outputs": [
    {
     "name": "stderr",
     "output_type": "stream",
     "text": [
      "test_forward (__main__.TestF) ... ok\n",
      "test_inverse (__main__.TestF) ... ok\n",
      "test_forward (__main__.TestS) ... ok\n",
      "test_inverse (__main__.TestS) ... ok\n",
      "\n",
      "----------------------------------------------------------------------\n",
      "Ran 4 tests in 0.008s\n",
      "\n",
      "OK\n"
     ]
    },
    {
     "data": {
      "text/plain": [
       "<unittest.main.TestProgram at 0x7f156193b0d0>"
      ]
     },
     "execution_count": 55,
     "metadata": {},
     "output_type": "execute_result"
    }
   ],
   "source": [
    "import unittest\n",
    "\n",
    "def test_phi(x):\n",
    "    return x\n",
    "\n",
    "class TestF(unittest.TestCase):\n",
    "    def setUp(self):\n",
    "        phi_in = (3,2) # batch_size = 3\n",
    "        phi_module=Phi()\n",
    "        self.model=F(phi_in,phi_module)\n",
    "        xa = torch.tensor(((1,2),(1,2),(1,2)))\n",
    "        xb = torch.tensor(((3,4),(3,4),(3,4)))\n",
    "        self.x = torch.cat((xa,xb),axis=1)\n",
    "        ya = torch.tensor(((4,6),(4,6),(4,6)))\n",
    "        yb = torch.tensor(((3,4),(3,4),(3,4)))\n",
    "        self.y= torch.cat((ya,yb),axis=1)\n",
    "        \n",
    "    def test_forward(self):\n",
    "        y_pred = self.model(self.x)\n",
    "        self.assertTrue(torch.equal(y_pred,self.y))\n",
    "        \n",
    "    def test_inverse(self):\n",
    "        x_pred = self.model.inverse(self.y)\n",
    "        self.assertTrue(torch.equal(x_pred,self.x))\n",
    "            \n",
    "unittest.main(argv=[''], verbosity=2, exit=False)"
   ]
  },
  {
   "cell_type": "markdown",
   "id": "463ea12e",
   "metadata": {},
   "source": [
    "## III d"
   ]
  },
  {
   "cell_type": "code",
   "execution_count": 50,
   "id": "4b1be65e",
   "metadata": {},
   "outputs": [],
   "source": [
    "import torch\n",
    "import torch.nn as nn\n",
    "\n",
    "class S(nn.Module):\n",
    "    def __init__(self, n_A, n_B):\n",
    "        \"\"\" Creates a new instance of S.\n",
    "        Parameters\n",
    "        - - - - - -\n",
    "        n_A : int\n",
    "        Number of components for x_A\n",
    "        n_B : int\n",
    "        Number of components for x_B\n",
    "        \"\"\"\n",
    "        \n",
    "        super().__init__()\n",
    "        self.n_A=n_A\n",
    "        self.n_B=n_B\n",
    "    \n",
    "    def forward(self, inputs):\n",
    "        xa,xb=inputs.split([self.n_A,self.n_B],dim=1)\n",
    "        return torch.cat((xb,xa),dim=1)\n",
    "    \n",
    "    def inverse(self, inputs):\n",
    "        xb,xa=inputs.split([self.n_B,self.n_A],dim=1)\n",
    "        return torch.cat((xa,xb),dim=1)\n"
   ]
  },
  {
   "cell_type": "code",
   "execution_count": 51,
   "id": "cfb1d951",
   "metadata": {},
   "outputs": [
    {
     "name": "stderr",
     "output_type": "stream",
     "text": [
      "test_forward (__main__.TestF) ... ok\n",
      "test_inverse (__main__.TestF) ... ok\n",
      "test_forward (__main__.TestS) ... ok\n",
      "test_inverse (__main__.TestS) ... ok\n",
      "\n",
      "----------------------------------------------------------------------\n",
      "Ran 4 tests in 0.012s\n",
      "\n",
      "OK\n"
     ]
    },
    {
     "data": {
      "text/plain": [
       "<unittest.main.TestProgram at 0x7f15619a0d30>"
      ]
     },
     "execution_count": 51,
     "metadata": {},
     "output_type": "execute_result"
    }
   ],
   "source": [
    "import unittest\n",
    "\n",
    "class TestS(unittest.TestCase):\n",
    "    def setUp(self):\n",
    "        self.model=S(2,2)\n",
    "        # batch size 4\n",
    "        xa = torch.tensor(((1,2),(1,2),(1,2),(1,2)))\n",
    "        xb = torch.tensor(((3,4),(3,4),(3,4),(3,4)))\n",
    "        self.forward=torch.cat(tensors=(xa,xb),dim=1)\n",
    "        self.backward=torch.cat(tensors=(xb,xa),dim=1)\n",
    "        \n",
    "    def test_forward(self):\n",
    "        y_pred = self.model(self.forward)\n",
    "        self.assertTrue(torch.equal(y_pred,self.backward))\n",
    "        \n",
    "    def test_inverse(self):\n",
    "        y_pred = self.model.inverse(self.backward)\n",
    "        self.assertTrue(torch.equal(y_pred,self.forward))\n",
    "                    \n",
    "unittest.main(argv=[''], verbosity=2, exit=False)"
   ]
  },
  {
   "cell_type": "markdown",
   "id": "003ff537",
   "metadata": {},
   "source": [
    "## III e "
   ]
  },
  {
   "cell_type": "code",
   "execution_count": 64,
   "id": "266390c3",
   "metadata": {},
   "outputs": [],
   "source": [
    "class G(nn.Module):\n",
    "    def __init__(self,n_A,n_B):\n",
    "        \"\"\" Creates a new instance of G.\n",
    "        Parameters\n",
    "        - - - - - -\n",
    "        n_A : int\n",
    "        Number of components for x_A\n",
    "        n_B : int\n",
    "        Number of components for x_B\n",
    "        \"\"\"\n",
    "        \n",
    "        super().__init__()\n",
    "        self.n_A=n_A\n",
    "        self.n_B=n_B\n",
    "        phi_module = Phi()\n",
    "        \n",
    "        self.stack=nn.Sequential(\n",
    "        F(phi_in=(4,2),phi=phi_module),\n",
    "        S(2,2),\n",
    "        F(phi_in=(4,2),phi=phi_module),\n",
    "        S(2,2),\n",
    "        F(phi_in=(4,2),phi=phi_module))\n",
    "        \n",
    "    def forward(self,inputs):\n",
    "        return(self.stack(inputs))\n",
    "    def inverse(self,inputs):\n",
    "        pass\n",
    "    "
   ]
  },
  {
   "cell_type": "code",
   "execution_count": 69,
   "id": "7863a343",
   "metadata": {},
   "outputs": [
    {
     "name": "stderr",
     "output_type": "stream",
     "text": [
      "test_forward (__main__.TestF) ... ok\n",
      "test_inverse (__main__.TestF) ... ok\n",
      "test_forward (__main__.TestG) ... ok\n",
      "test_inverse (__main__.TestG) ... ERROR\n",
      "test_forward (__main__.TestS) ... ok\n",
      "test_inverse (__main__.TestS) ... ok\n",
      "\n",
      "======================================================================\n",
      "ERROR: test_inverse (__main__.TestG)\n",
      "----------------------------------------------------------------------\n",
      "Traceback (most recent call last):\n",
      "  File \"<ipython-input-69-c6cb303d30b1>\", line 21, in test_inverse\n",
      "    self.assertTrue(torch.equal(y_pred,self.input))\n",
      "TypeError: equal(): argument 'input' (position 1) must be Tensor, not NoneType\n",
      "\n",
      "----------------------------------------------------------------------\n",
      "Ran 6 tests in 0.019s\n",
      "\n",
      "FAILED (errors=1)\n"
     ]
    },
    {
     "data": {
      "text/plain": [
       "<unittest.main.TestProgram at 0x7f15617d8b50>"
      ]
     },
     "execution_count": 69,
     "metadata": {},
     "output_type": "execute_result"
    }
   ],
   "source": [
    "import unittest\n",
    "\n",
    "class TestG(unittest.TestCase):\n",
    "    def setUp(self):\n",
    "        self.model=G(2,2)\n",
    "        # batch size 4\n",
    "        xa = torch.tensor(((1,2),(1,2),(1,2),(1,2)))\n",
    "        xb = torch.tensor(((3,4),(3,4),(3,4),(3,4)))\n",
    "        ## calculated this solution by hand\n",
    "        ya = torch.tensor(((11,16),(11,16),(11,16),(11,16)))\n",
    "        yb = torch.tensor(((7,10),(7,10),(7,10),(7,10))) \n",
    "        self.input=torch.cat(tensors=(xa,xb),dim=1)\n",
    "        self.solution=torch.cat(tensors=(ya,yb),dim=1)\n",
    "        \n",
    "    def test_forward(self):\n",
    "        y_pred = self.model(self.input)\n",
    "        self.assertTrue(torch.equal(y_pred,self.solution))\n",
    "        \n",
    "    def test_inverse(self):\n",
    "        y_pred = self.model.inverse(self.solution)\n",
    "        self.assertTrue(torch.equal(y_pred,self.input))\n",
    "                    \n",
    "unittest.main(argv=[''], verbosity=2, exit=False)"
   ]
  },
  {
   "cell_type": "code",
   "execution_count": null,
   "id": "fd28fe77",
   "metadata": {},
   "outputs": [],
   "source": []
  }
 ],
 "metadata": {
  "kernelspec": {
   "display_name": "pytorchEnv",
   "language": "python",
   "name": "pytorchenv"
  },
  "language_info": {
   "codemirror_mode": {
    "name": "ipython",
    "version": 3
   },
   "file_extension": ".py",
   "mimetype": "text/x-python",
   "name": "python",
   "nbconvert_exporter": "python",
   "pygments_lexer": "ipython3",
   "version": "3.8.5"
  }
 },
 "nbformat": 4,
 "nbformat_minor": 5
}
