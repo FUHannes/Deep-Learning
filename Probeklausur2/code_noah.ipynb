{
 "cells": [
  {
   "cell_type": "markdown",
   "id": "d3652cfa",
   "metadata": {},
   "source": [
    "## Autoencoder "
   ]
  },
  {
   "cell_type": "code",
   "execution_count": 21,
   "id": "f9473bac",
   "metadata": {},
   "outputs": [],
   "source": [
    "import torch \n",
    "import torch.nn as nn\n",
    "\n",
    "class F(nn.Module):\n",
    "    def __init__(self,phi_in:int,phi): #:nn.Module\n",
    "        \"\"\"Creates a new instance of F.\n",
    "        Parameters\n",
    "        - - - - - -\n",
    "        phi_in : int\n",
    "        The input dimension of phi, i.e., the expected\n",
    "        shape is [batch_size, phi_in]\n",
    "        phi : nn.Module\n",
    "        PyTorch module which implements a neural network block \"Phi\"\n",
    "        \"\"\"\n",
    "        super().__init__()\n",
    "        self.phi = phi\n",
    "        self.phi_in = phi_in\n",
    "        self.xb_size = phi_in[1]\n",
    "        \n",
    "    def forward(self, inputs):\n",
    "        xa,xb=inputs.split([inputs.shape[1]-self.xb_size,self.xb_size],dim=1)\n",
    "        ya = xa + self.phi(xb)\n",
    "        yb = xb\n",
    "        return torch.cat((ya,yb),axis=1)\n",
    "\n",
    "    def inverse(self, inputs):\n",
    "        ya,yb=inputs.split([inputs.shape[1]-self.xb_size,self.xb_size],dim=1)\n",
    "        xb=yb\n",
    "        xa=ya-self.phi(yb)\n",
    "        return torch.cat((xa,xb),axis=1)\n"
   ]
  },
  {
   "cell_type": "code",
   "execution_count": 22,
   "id": "f94da997",
   "metadata": {},
   "outputs": [
    {
     "name": "stderr",
     "output_type": "stream",
     "text": [
      "test_forward (__main__.TestF) ... ok\n",
      "test_inverse (__main__.TestF) ... ok\n",
      "\n",
      "----------------------------------------------------------------------\n",
      "Ran 2 tests in 0.032s\n",
      "\n",
      "OK\n"
     ]
    },
    {
     "data": {
      "text/plain": [
       "<unittest.main.TestProgram at 0x7f1561a97bb0>"
      ]
     },
     "execution_count": 22,
     "metadata": {},
     "output_type": "execute_result"
    }
   ],
   "source": [
    "import unittest\n",
    "\n",
    "def test_phi(x):\n",
    "    return x\n",
    "\n",
    "class TestF(unittest.TestCase):\n",
    "    def setUp(self):\n",
    "        phi_in = (3,2) # batch_size = 3\n",
    "        self.model=F(phi_in,test_phi)\n",
    "        xa = torch.tensor(((1,2),(1,2),(1,2)))\n",
    "        xb = torch.tensor(((3,4),(3,4),(3,4)))\n",
    "        self.x = torch.cat((xa,xb),axis=1)\n",
    "        ya = torch.tensor(((4,6),(4,6),(4,6)))\n",
    "        yb = torch.tensor(((3,4),(3,4),(3,4)))\n",
    "        self.y= torch.cat((ya,yb),axis=1)\n",
    "        \n",
    "    def test_forward(self):\n",
    "        y_pred = self.model(self.x)\n",
    "        self.assertTrue(torch.equal(y_pred,self.y))\n",
    "        \n",
    "    def test_inverse(self):\n",
    "        x_pred = self.model.inverse(self.y)\n",
    "        self.assertTrue(torch.equal(x_pred,self.x))\n",
    "            \n",
    "unittest.main(argv=[''], verbosity=2, exit=False)"
   ]
  },
  {
   "cell_type": "code",
   "execution_count": 5,
   "id": "8108dfdc",
   "metadata": {},
   "outputs": [
    {
     "data": {
      "text/plain": [
       "torch.Size([3, 2])"
      ]
     },
     "execution_count": 5,
     "metadata": {},
     "output_type": "execute_result"
    }
   ],
   "source": [
    "import torch\n",
    "x=torch.tensor(((2,3),(4,5),(6,7)))\n",
    "x.shape"
   ]
  },
  {
   "cell_type": "markdown",
   "id": "463ea12e",
   "metadata": {},
   "source": [
    "## Inverse"
   ]
  },
  {
   "cell_type": "code",
   "execution_count": 3,
   "id": "4b1be65e",
   "metadata": {},
   "outputs": [],
   "source": [
    "import torch\n",
    "import torch.nn as nn\n",
    "\n",
    "class S(nn.Module):\n",
    "    def __init__(self, n_A, n_B):\n",
    "        \"\"\" Creates a new instance of S.\n",
    "        Parameters\n",
    "        - - - - - -\n",
    "        n_A : int\n",
    "        Number of components for x_A\n",
    "        n_B : int\n",
    "        Number of components for x_B\n",
    "        \"\"\"\n",
    "        \n",
    "        super().__init__()\n",
    "        self.n_A=n_A\n",
    "        self.n_B=n_B\n",
    "    \n",
    "    def forward(self, inputs):\n",
    "        xa,xb=inputs.split([self.n_A,self.n_B])\n",
    "        return torch.cat((xb,xa))\n",
    "    \n",
    "    def inverse(self, inputs):\n",
    "        xb,xa=inputs.split([self.n_B,self.n_A])\n",
    "        return torch.cat((xa,xb))\n"
   ]
  },
  {
   "cell_type": "code",
   "execution_count": 4,
   "id": "cfb1d951",
   "metadata": {},
   "outputs": [
    {
     "name": "stderr",
     "output_type": "stream",
     "text": [
      "test_forward (__main__.TestF) ... ok\n",
      "test_inverse (__main__.TestF) ... ok\n",
      "test_forward (__main__.TestS) ... ok\n",
      "test_inverse (__main__.TestS) ... ok\n",
      "\n",
      "----------------------------------------------------------------------\n",
      "Ran 4 tests in 0.014s\n",
      "\n",
      "OK\n"
     ]
    },
    {
     "data": {
      "text/plain": [
       "<unittest.main.TestProgram at 0x7fceda227f70>"
      ]
     },
     "execution_count": 4,
     "metadata": {},
     "output_type": "execute_result"
    }
   ],
   "source": [
    "import unittest\n",
    "\n",
    "class TestS(unittest.TestCase):\n",
    "    def setUp(self):\n",
    "        self.model=S(2,3)\n",
    "        xa = torch.tensor((1,2))\n",
    "        xb = torch.tensor((3,4,5))\n",
    "        self.forward=torch.cat((xa,xb))\n",
    "        self.backward=torch.cat((xb,xa))\n",
    "        \n",
    "    def test_forward(self):\n",
    "        y_pred = self.model(self.forward)\n",
    "        self.assertTrue(torch.equal(y_pred,self.backward))\n",
    "        \n",
    "    def test_inverse(self):\n",
    "        y_pred = self.model.inverse(self.backward)\n",
    "        self.assertTrue(torch.equal(y_pred,self.forward))\n",
    "                    \n",
    "unittest.main(argv=[''], verbosity=2, exit=False)"
   ]
  }
 ],
 "metadata": {
  "kernelspec": {
   "display_name": "pytorchEnv",
   "language": "python",
   "name": "pytorchenv"
  },
  "language_info": {
   "codemirror_mode": {
    "name": "ipython",
    "version": 3
   },
   "file_extension": ".py",
   "mimetype": "text/x-python",
   "name": "python",
   "nbconvert_exporter": "python",
   "pygments_lexer": "ipython3",
   "version": "3.8.5"
  }
 },
 "nbformat": 4,
 "nbformat_minor": 5
}
