{
  "nbformat": 4,
  "nbformat_minor": 0,
  "metadata": {
    "colab": {
      "name": "Untitled5.ipynb",
      "provenance": [],
      "authorship_tag": "ABX9TyOxvtnOHgsTbx1j8szWCnsf",
      "include_colab_link": true
    },
    "kernelspec": {
      "name": "python3",
      "display_name": "Python 3"
    },
    "language_info": {
      "name": "python"
    }
  },
  "cells": [
    {
      "cell_type": "markdown",
      "metadata": {
        "id": "view-in-github",
        "colab_type": "text"
      },
      "source": [
        "<a href=\"https://colab.research.google.com/github/FUHannes/Deep-Learning/blob/main/help/whitening.ipynb\" target=\"_parent\"><img src=\"https://colab.research.google.com/assets/colab-badge.svg\" alt=\"Open In Colab\"/></a>"
      ]
    },
    {
      "cell_type": "code",
      "metadata": {
        "colab": {
          "base_uri": "https://localhost:8080/"
        },
        "id": "nTTFqcRANvf4",
        "outputId": "a90a5dc7-195a-47f0-a451-39a5581ecab3"
      },
      "source": [
        "# Import libraries\n",
        "import numpy as np\n",
        "import matplotlib.pyplot as plt\n",
        "from scipy import linalg\n",
        " \n",
        "# Create data\n",
        "x = np.array([[0,0,4,4],  #\n",
        "              [-4,0,0,-4]]) #\n",
        "print('x.shape:', x.shape)\n",
        " \n",
        "# Center data\n",
        "# By subtracting mean for each feature\n",
        "xc = x.T - np.mean(x.T, axis=0)\n",
        "xc = xc.T\n",
        "print('xc.shape:', xc.shape, '\\n')\n",
        " \n",
        "# Calculate covariance matrix\n",
        "xcov = np.cov(xc, rowvar=True, bias=True)\n",
        "print('Covariance matrix: \\n', xcov, '\\n')\n",
        " \n",
        "# Calculate Eigenvalues and Eigenvectors\n",
        "w, v = linalg.eig(xcov)\n",
        "# Note: Use w.real.round(4) to (1) remove 'j' notation to real, (2) round to '4' significant digits\n",
        "print(\"Eigenvalues:\\n\", w.real.round(4), '\\n')\n",
        "print(\"Eigenvectors:\\n\", v, '\\n')\n",
        " \n",
        "# Calculate inverse square root of Eigenvalues\n",
        "# Optional: Add '.1e5' to avoid division errors if needed\n",
        "# Create a diagonal matrix\n",
        "diagw = np.diag(1/(w**0.5)) # or np.diag(1/((w+.1e-5)**0.5))\n",
        "diagw = diagw.real.round(4) #convert to real and round off\n",
        "print(\"Diagonal matrix for inverse square root of Eigenvalues:\\n\", diagw, '\\n')\n",
        " \n",
        "# Calculate Rotation (optional)\n",
        "# Note: To see how data can be rotated\n",
        "xrot = np.dot(v, xc)\n",
        " \n",
        "# Whitening transform using PCA (Principal Component Analysis)\n",
        "wpca = np.dot(np.dot(diagw, v.T), xc)\n",
        " \n",
        "# Whitening transform using ZCA (Zero Component Analysis)\n",
        "wzca = np.dot(np.dot(np.dot(v, diagw), v.T), xc)\n",
        "\n",
        "\n",
        "## \n",
        "print(wpca)"
      ],
      "execution_count": 3,
      "outputs": [
        {
          "output_type": "stream",
          "text": [
            "x.shape: (2, 4)\n",
            "xc.shape: (2, 4) \n",
            "\n",
            "Covariance matrix: \n",
            " [[4. 0.]\n",
            " [0. 4.]] \n",
            "\n",
            "Eigenvalues:\n",
            " [4. 4.] \n",
            "\n",
            "Eigenvectors:\n",
            " [[1. 0.]\n",
            " [0. 1.]] \n",
            "\n",
            "Diagonal matrix for inverse square root of Eigenvalues:\n",
            " [[0.5 0. ]\n",
            " [0.  0.5]] \n",
            "\n",
            "[[-1. -1.  1.  1.]\n",
            " [-1.  1.  1. -1.]]\n"
          ],
          "name": "stdout"
        }
      ]
    }
  ]
}